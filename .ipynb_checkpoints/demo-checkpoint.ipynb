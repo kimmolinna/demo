{
 "cells": [
  {
   "cell_type": "markdown",
   "id": "55d9c9ee",
   "metadata": {},
   "source": [
    "# JupyterLab Notebook with DyalogAPL and RSconnect (R and Rserve)\r\n",
    "## A Short history of my APL journey\r\n",
    "* 1997 University of Tampere\r\n",
    "* 1998-1999 Statictics Finland\r\n",
    "* [PX-Edit](https://www.stat.fi/tup/tilastotietokannat/px-tuoteperhe_en.html) -> Veli-Matti Jantunen\r\n",
    "* 2002-2012 Finnair (checking traffic fees, checking salary calculations, roster program for shift workers in the office)\r\n",
    "* 2013-2015 Pilots' union - q/kdb+\r\n",
    "* 2020-2021 Layoffs -> k/q/r, databases, interfaces\r\n",
    "* 2021- Finnair  \r\n",
    "\r\n",
    "## What do i need as a people data and reporting lead for a transparent negotation process?\r\n",
    "* A Swiss knife tool - [Dyalog APL](https://www.dyalog.com/)\r\n",
    "* Database (query language) - [data.table](https://rdatatable.gitlab.io/data.table/) or [DuckDB](https://duckdb.org/) in [R](https://www.r-project.org/)\r\n",
    "* Notebook (transparency requires scripting) - [JupyterLab](https://jupyter.org/) with native support for vega-lite\r\n",
    "* Graphics library - [vega-lite](https://vega.github.io/vega-lite/)\r\n",
    "\r\n",
    "## Preparations\r\n",
    "### Install dotnet 3.1 core\r\n",
    "```APL\r\n",
    "DYALOG_NETCORE=1\r\n",
    "```\r\n",
    "### Install [JupyterLab](https://jupyter.org/)\r\n",
    "```bash\r\n",
    "pip install jupyterlab\r\n",
    "```\r\n",
    "### Clone [dyalog-jupyter-kernel](https://github.com/kimmolinna/dyalog-jupyter-kernel)\r\n",
    "Copy cloned files to the present structure\r\n",
    "```bash\r\n",
    "[Python Folder]\\share\\jupyter\\kernels\\dyalog-kernel\r\n",
    "[Python Folder]\\Lib\\site-packages\\dyalog_kernel\r\n",
    "```\r\n",
    "### Install [Rserve](https://www.rforge.net/Rserve/)\r\n",
    "\"Rserve is a TCP/IP server which allows other programs to use facilities of R (see www.r-project.org) from various languages without the need to initialize R or link against R library. Every connection has a separate workspace and working directory.\"\r\n",
    "```R\r\n",
    "Install.packages (\"Rserve\")\r\n",
    "```\r\n",
    "Copy Rserve files from the library-folder to the present R structure\r\n",
    "```bash\r\n",
    "[R Folder]\\R-4.1.0\\library\\Rserve\\libs\\x64 -> [R Folder]\\R-4.1.0\\bin\\x64\r\n",
    "```\r\n",
    "### Install [data.table](https://rdatatable.gitlab.io/data.table/)\r\n",
    "```R\r\n",
    "Install.packages (\"data.table\")\r\n",
    "```\r\n",
    "[Database-like ops benchmark](https://h2oai.github.io/db-benchmark/)\r\n",
    "### Install [DuckDB](https://duckdb.org/)\r\n",
    "```R\r\n",
    "Install.packages (\"duckdb\")\r\n",
    "```\r\n",
    "[Querying Parquet with Precision using DuckDB](https://duckdb.org/2021/06/25/querying-parquet.html)\r\n",
    "\r\n",
    "[Apache Arrow](https://arrow.apache.org/)\r\n",
    "### Clone [rsconnect](https://github.com/kimmolinna/rsconnect)\r\n",
    "Interface for R connection from DyalogAPL with Rserve\r\n",
    "    "
   ]
  },
  {
   "cell_type": "code",
   "execution_count": 1,
   "id": "5012e5d3",
   "metadata": {},
   "outputs": [
    {
     "data": {
      "text/html": [
       "<span style=\"white-space:pre; font-family: monospace\">┌──────────────┬─┐\n",
       "│DYALOG_NETCORE│1│\n",
       "└──────────────┴─┘\n",
       "</span>"
      ]
     },
     "execution_count": 1,
     "metadata": {},
     "output_type": "execute_result"
    }
   ],
   "source": [
    "]config DYALOG_NETCORE"
   ]
  },
  {
   "cell_type": "code",
   "execution_count": 17,
   "id": "e48ed9dc",
   "metadata": {},
   "outputs": [
    {
     "data": {
      "text/html": [
       "<span style=\"white-space:pre; font-family: monospace\">Already linked: #.vega ←→ C:\\Users\\kimmo\\OneDrive\\dyalog\\vega\n",
       "</span>"
      ]
     },
     "execution_count": 17,
     "metadata": {},
     "output_type": "execute_result"
    }
   ],
   "source": [
    "]LINK.create vega C:\\Users\\kimmo\\OneDrive\\dyalog\\vega"
   ]
  },
  {
   "cell_type": "code",
   "execution_count": null,
   "id": "af0b08f7-fcbe-45fa-a39f-8c0ec2166beb",
   "metadata": {},
   "outputs": [],
   "source": [
    "2⎕fix 'file://c:/Users/kimmo/rsconnect/rserve.dyalog'\n",
    "⎕ex 'r' ⋄ r←⎕new RS.Rserve"
   ]
  },
  {
   "cell_type": "code",
   "execution_count": 3,
   "id": "788f69d1",
   "metadata": {},
   "outputs": [
    {
     "data": {
      "text/html": [
       "<span style=\"white-space:pre; font-family: monospace\">┌───┬──────────┬─────┬────────┬─────────┬─────┬────────┬───────┬────┐\n",
       "│DBI│data.table│stats│graphics│grDevices│utils│datasets│methods│base│\n",
       "└───┴──────────┴─────┴────────┴─────────┴─────┴────────┴───────┴────┘\n",
       "</span>"
      ]
     },
     "execution_count": 3,
     "metadata": {},
     "output_type": "execute_result"
    }
   ],
   "source": [
    "0 r.eval 'library(data.table)'\n",
    "r.eval 'library(DBI)'"
   ]
  },
  {
   "cell_type": "code",
   "execution_count": 4,
   "id": "2e6ac6e1",
   "metadata": {},
   "outputs": [],
   "source": [
    "0 r.eval 'con = dbConnect(duckdb::duckdb(), dbdir=\":memory:\", read_only=FALSE)'"
   ]
  },
  {
   "cell_type": "code",
   "execution_count": 5,
   "id": "ba38a81e",
   "metadata": {},
   "outputs": [],
   "source": [
    "0 r.eval 'cobasket<-fread(\"c:/users/kimmo/Onedrive/salary/cobasket_ver2.csv\")' \n",
    "0 r.eval 'positions<-fread(\"c:/users/kimmo/Onedrive/salary/positions.csv\")'\n",
    "0 r.eval 'coeff<-fread(\"c:/users/kimmo/Onedrive/salary/coefficients.csv\")'\n",
    "0 r.eval 'cobasket<-cobasket[positions,on=.(Pos=Pos),nomatch=0]'\n",
    "0 r.eval 'cobasket<-cobasket[coeff,on=.(Pos=Pos),nomatch=0]'\n",
    "0 r.eval 'setorder(cobasket,PosTra)'"
   ]
  },
  {
   "cell_type": "code",
   "execution_count": 6,
   "id": "d68c5aa3",
   "metadata": {},
   "outputs": [],
   "source": [
    "cb←r.eval 'cobasket'"
   ]
  },
  {
   "cell_type": "code",
   "execution_count": 7,
   "id": "115b9b98",
   "metadata": {},
   "outputs": [
    {
     "data": {
      "text/html": [
       "<span style=\"white-space:pre; font-family: monospace\">┌─────┬─────┬─────────┐\n",
       "│names│class│row.names│\n",
       "└─────┴─────┴─────────┘\n",
       "</span>"
      ]
     },
     "execution_count": 7,
     "metadata": {},
     "output_type": "execute_result"
    }
   ],
   "source": [
    "cb.attributes[]"
   ]
  },
  {
   "cell_type": "code",
   "execution_count": 8,
   "id": "9d5085f6",
   "metadata": {},
   "outputs": [
    {
     "data": {
      "text/html": [
       "<span style=\"white-space:pre; font-family: monospace\">┌──────┬──┬─────────┬──────┬───────┬─────┬─────┬───────┬──────┬──────┬─────┬────────┬─────────┬──────┬──────┬────────┬───────┬──────┬─────┬──────┬────────┬───────┬───────┬────────┬───────┬─────────┬────┬─────┬────┬───────┬─────────┬─────┬──────┬────────┬──────┬─────┬──────┬──────┬──────┬───────┬────────┬────────┬────────┬────────┬────────┬────────┬──────┬──────┬───────┬───────┬──────┬──────────┬────────┬───────┬──────────┬─────┐\n",
       "│Period│Id│PeriodId │Pos   │SalaryG│Block│Duty │AddDuty│Basket│Sunday│Night│Overtime│Overtimex│Dayoff│Under6│Landings│Duty120│Change│Limit│DutyNo│Prorated│SenDate│Standby│DepDelay│Reserve│Undermann│Inst│Coach│LFI │Lecture│ShortRest│NopoE│DailyE│Saturday│Lkm6_9│Lkm9_│Min6_7│Min7_8│Min8_9│Min9_10│Min10_11│Min11_12│Min12_13│Min13_14│Min14_15│Min15_16│Min16_│PosTxt│PosType│PosRank│PosTra│SaturdayCo│SundayCo│NightCo│OvertimeCo│LegCo│\n",
       "├──────┼──┼─────────┼──────┼───────┼─────┼─────┼───────┼──────┼──────┼─────┼────────┼─────────┼──────┼──────┼────────┼───────┼──────┼─────┼──────┼────────┼───────┼───────┼────────┼───────┼─────────┼────┼─────┼────┼───────┼─────────┼─────┼──────┼────────┼──────┼─────┼──────┼──────┼──────┼───────┼────────┼────────┼────────┼────────┼────────┼────────┼──────┼──────┼───────┼───────┼──────┼──────────┼────────┼───────┼──────────┼─────┤\n",
       "│201903│1 │201903001│520535│1M22   │38.2 │53   │0      │67.2  │0     │23.2 │9       │16.2     │19.8  │0     │4       │0      │30    │130  │5     │4       │32660  │0      │0       │0      │0        │0   │0    │0   │0      │0        │0    │435   │695     │1     │4    │300   │300   │240   │210    │140     │95      │60      │32      │0       │0       │0     │MFFC  │MFF    │1      │MFFCDR│0.5       │0.5     │0.5    │0.5       │0.155│\n",
       "├──────┼──┼─────────┼──────┼───────┼─────┼─────┼───────┼──────┼──────┼─────┼────────┼─────────┼──────┼──────┼────────┼───────┼──────┼─────┼──────┼────────┼───────┼───────┼────────┼───────┼─────────┼────┼─────┼────┼───────┼─────────┼─────┼──────┼────────┼──────┼─────┼──────┼──────┼──────┼───────┼────────┼────────┼────────┼────────┼────────┼────────┼──────┼──────┼───────┼───────┼──────┼──────────┼────────┼───────┼──────────┼─────┤\n",
       "│201904│1 │201904001│520535│1M22   │60.6 │91.3 │0      │117.3 │8.5   │28.7 │11.7    │21.3     │0     │0.5   │12      │0      │30    │150  │10    │0       │32660  │0      │0       │0      │14       │0   │0    │0   │0      │0        │0    │490   │379     │5     │4    │439   │420   │348   │240    │195     │128     │74      │60      │2       │0       │0     │MFFC  │MFF    │1      │MFFCDR│0.5       │0.5     │0.5    │0.5       │0.155│\n",
       "├──────┼──┼─────────┼──────┼───────┼─────┼─────┼───────┼──────┼──────┼─────┼────────┼─────────┼──────┼──────┼────────┼───────┼──────┼─────┼──────┼────────┼───────┼───────┼────────┼───────┼─────────┼────┼─────┼────┼───────┼─────────┼─────┼──────┼────────┼──────┼─────┼──────┼──────┼──────┼───────┼────────┼────────┼────────┼────────┼────────┼────────┼──────┼──────┼───────┼───────┼──────┼──────────┼────────┼───────┼──────────┼─────┤\n",
       "│201905│1 │201905001│520535│1M22   │52.2 │112.1│35.8   │150.8 │25.1  │12.8 │2       │3        │17    │2.8   │24      │0      │30    │115  │14    │7       │32660  │3      │0.6     │0      │0        │23.9│0    │27.2│0      │0        │0    │245.5 │1688    │8     │4    │660   │600   │489   │120    │0       │0       │0       │0       │0       │0       │0     │MFFC  │MFF    │1      │MFFCDR│0.5       │0.5     │0.5    │0.5       │0.155│\n",
       "├──────┼──┼─────────┼──────┼───────┼─────┼─────┼───────┼──────┼──────┼─────┼────────┼─────────┼──────┼──────┼────────┼───────┼──────┼─────┼──────┼────────┼───────┼───────┼────────┼───────┼─────────┼────┼─────┼────┼───────┼─────────┼─────┼──────┼────────┼──────┼─────┼──────┼──────┼──────┼───────┼────────┼────────┼────────┼────────┼────────┼────────┼──────┼──────┼───────┼───────┼──────┼──────────┼────────┼───────┼──────────┼─────┤\n",
       "│201906│1 │201906001│520535│1M22   │82.3 │142.3│45.4   │195.4 │28    │37.3 │12.2    │22.1     │0     │0     │28      │22.3   │30    │150  │16    │0       │32660  │0      │0       │0      │0        │24  │0    │17.4│0      │0        │300  │515   │1284    │10    │6    │720   │720   │601   │321    │184     │120     │70      │39      │0       │0       │0     │MFFC  │MFF    │1      │MFFCDR│0.5       │0.5     │0.5    │0.5       │0.155│\n",
       "├──────┼──┼─────────┼──────┼───────┼─────┼─────┼───────┼──────┼──────┼─────┼────────┼─────────┼──────┼──────┼────────┼───────┼──────┼─────┼──────┼────────┼───────┼───────┼────────┼───────┼─────────┼────┼─────┼────┼───────┼─────────┼─────┼──────┼────────┼──────┼─────┼──────┼──────┼──────┼───────┼────────┼────────┼────────┼────────┼────────┼────────┼──────┼──────┼───────┼───────┼──────┼──────────┼────────┼───────┼──────────┼─────┤\n",
       "│201907│1 │201907001│520535│1M22   │11.1 │12.9 │0      │15.1  │0     │6.1  │3.9     │7.3      │0     │0     │1       │0      │30    │50   │1     │20      │32660  │0      │0       │0      │0        │0   │0    │0   │0      │0        │0    │0     │0       │0     │1    │60    │60    │60    │60     │60      │60      │56      │0       │0       │0       │0     │MFFC  │MFF    │1      │MFFCDR│0.5       │0.5     │0.5    │0.5       │0.155│\n",
       "└──────┴──┴─────────┴──────┴───────┴─────┴─────┴───────┴──────┴──────┴─────┴────────┴─────────┴──────┴──────┴────────┴───────┴──────┴─────┴──────┴────────┴───────┴───────┴────────┴───────┴─────────┴────┴─────┴────┴───────┴─────────┴─────┴──────┴────────┴──────┴─────┴──────┴──────┴──────┴───────┴────────┴────────┴────────┴────────┴────────┴────────┴──────┴──────┴───────┴───────┴──────┴──────────┴────────┴───────┴──────────┴─────┘\n",
       "</span>"
      ]
     },
     "execution_count": 8,
     "metadata": {},
     "output_type": "execute_result"
    }
   ],
   "source": [
    "cb.value[⍳6;]"
   ]
  },
  {
   "cell_type": "code",
   "execution_count": 9,
   "id": "fdf71a14",
   "metadata": {},
   "outputs": [
    {
     "data": {
      "text/html": [
       "<span style=\"white-space:pre; font-family: monospace\">#.[Rserve].[robject]\n",
       "</span>"
      ]
     },
     "execution_count": 9,
     "metadata": {},
     "output_type": "execute_result"
    }
   ],
   "source": [
    "0 r.eval 'dbWriteTable(con, \"cobasket\", cobasket)'\n",
    "r.eval 'dbGetQuery(con, \"SELECT * FROM cobasket LIMIT 5\")'"
   ]
  },
  {
   "cell_type": "code",
   "execution_count": 10,
   "id": "8398528c",
   "metadata": {},
   "outputs": [],
   "source": [
    "db←r.eval 'dbGetQuery(con, \"SELECT * FROM cobasket LIMIT 5\")'"
   ]
  },
  {
   "cell_type": "code",
   "execution_count": 11,
   "id": "81677772",
   "metadata": {},
   "outputs": [
    {
     "data": {
      "text/html": [
       "<span style=\"white-space:pre; font-family: monospace\">┌──────┬──┬─────────┬──────┬───────┬─────┬─────┬───────┬──────┬──────┬─────┬────────┬─────────┬──────┬──────┬────────┬───────┬──────┬─────┬──────┬────────┬───────┬───────┬────────┬───────┬─────────┬────┬─────┬────┬───────┬─────────┬─────┬──────┬────────┬──────┬─────┬──────┬──────┬──────┬───────┬────────┬────────┬────────┬────────┬────────┬────────┬──────┬──────┬───────┬───────┬──────┬──────────┬────────┬───────┬──────────┬─────┐\n",
       "│Period│Id│PeriodId │Pos   │SalaryG│Block│Duty │AddDuty│Basket│Sunday│Night│Overtime│Overtimex│Dayoff│Under6│Landings│Duty120│Change│Limit│DutyNo│Prorated│SenDate│Standby│DepDelay│Reserve│Undermann│Inst│Coach│LFI │Lecture│ShortRest│NopoE│DailyE│Saturday│Lkm6_9│Lkm9_│Min6_7│Min7_8│Min8_9│Min9_10│Min10_11│Min11_12│Min12_13│Min13_14│Min14_15│Min15_16│Min16_│PosTxt│PosType│PosRank│PosTra│SaturdayCo│SundayCo│NightCo│OvertimeCo│LegCo│\n",
       "├──────┼──┼─────────┼──────┼───────┼─────┼─────┼───────┼──────┼──────┼─────┼────────┼─────────┼──────┼──────┼────────┼───────┼──────┼─────┼──────┼────────┼───────┼───────┼────────┼───────┼─────────┼────┼─────┼────┼───────┼─────────┼─────┼──────┼────────┼──────┼─────┼──────┼──────┼──────┼───────┼────────┼────────┼────────┼────────┼────────┼────────┼──────┼──────┼───────┼───────┼──────┼──────────┼────────┼───────┼──────────┼─────┤\n",
       "│201903│1 │201903001│520535│1M22   │38.2 │53   │0      │67.2  │0     │23.2 │9       │16.2     │19.8  │0     │4       │0      │30    │130  │5     │4       │32660  │0      │0       │0      │0        │0   │0    │0   │0      │0        │0    │435   │695     │1     │4    │300   │300   │240   │210    │140     │95      │60      │32      │0       │0       │0     │MFFC  │MFF    │1      │MFFCDR│0.5       │0.5     │0.5    │0.5       │0.155│\n",
       "├──────┼──┼─────────┼──────┼───────┼─────┼─────┼───────┼──────┼──────┼─────┼────────┼─────────┼──────┼──────┼────────┼───────┼──────┼─────┼──────┼────────┼───────┼───────┼────────┼───────┼─────────┼────┼─────┼────┼───────┼─────────┼─────┼──────┼────────┼──────┼─────┼──────┼──────┼──────┼───────┼────────┼────────┼────────┼────────┼────────┼────────┼──────┼──────┼───────┼───────┼──────┼──────────┼────────┼───────┼──────────┼─────┤\n",
       "│201904│1 │201904001│520535│1M22   │60.6 │91.3 │0      │117.3 │8.5   │28.7 │11.7    │21.3     │0     │0.5   │12      │0      │30    │150  │10    │0       │32660  │0      │0       │0      │14       │0   │0    │0   │0      │0        │0    │490   │379     │5     │4    │439   │420   │348   │240    │195     │128     │74      │60      │2       │0       │0     │MFFC  │MFF    │1      │MFFCDR│0.5       │0.5     │0.5    │0.5       │0.155│\n",
       "├──────┼──┼─────────┼──────┼───────┼─────┼─────┼───────┼──────┼──────┼─────┼────────┼─────────┼──────┼──────┼────────┼───────┼──────┼─────┼──────┼────────┼───────┼───────┼────────┼───────┼─────────┼────┼─────┼────┼───────┼─────────┼─────┼──────┼────────┼──────┼─────┼──────┼──────┼──────┼───────┼────────┼────────┼────────┼────────┼────────┼────────┼──────┼──────┼───────┼───────┼──────┼──────────┼────────┼───────┼──────────┼─────┤\n",
       "│201905│1 │201905001│520535│1M22   │52.2 │112.1│35.8   │150.8 │25.1  │12.8 │2       │3        │17    │2.8   │24      │0      │30    │115  │14    │7       │32660  │3      │0.6     │0      │0        │23.9│0    │27.2│0      │0        │0    │245.5 │1688    │8     │4    │660   │600   │489   │120    │0       │0       │0       │0       │0       │0       │0     │MFFC  │MFF    │1      │MFFCDR│0.5       │0.5     │0.5    │0.5       │0.155│\n",
       "├──────┼──┼─────────┼──────┼───────┼─────┼─────┼───────┼──────┼──────┼─────┼────────┼─────────┼──────┼──────┼────────┼───────┼──────┼─────┼──────┼────────┼───────┼───────┼────────┼───────┼─────────┼────┼─────┼────┼───────┼─────────┼─────┼──────┼────────┼──────┼─────┼──────┼──────┼──────┼───────┼────────┼────────┼────────┼────────┼────────┼────────┼──────┼──────┼───────┼───────┼──────┼──────────┼────────┼───────┼──────────┼─────┤\n",
       "│201906│1 │201906001│520535│1M22   │82.3 │142.3│45.4   │195.4 │28    │37.3 │12.2    │22.1     │0     │0     │28      │22.3   │30    │150  │16    │0       │32660  │0      │0       │0      │0        │24  │0    │17.4│0      │0        │300  │515   │1284    │10    │6    │720   │720   │601   │321    │184     │120     │70      │39      │0       │0       │0     │MFFC  │MFF    │1      │MFFCDR│0.5       │0.5     │0.5    │0.5       │0.155│\n",
       "├──────┼──┼─────────┼──────┼───────┼─────┼─────┼───────┼──────┼──────┼─────┼────────┼─────────┼──────┼──────┼────────┼───────┼──────┼─────┼──────┼────────┼───────┼───────┼────────┼───────┼─────────┼────┼─────┼────┼───────┼─────────┼─────┼──────┼────────┼──────┼─────┼──────┼──────┼──────┼───────┼────────┼────────┼────────┼────────┼────────┼────────┼──────┼──────┼───────┼───────┼──────┼──────────┼────────┼───────┼──────────┼─────┤\n",
       "│201907│1 │201907001│520535│1M22   │11.1 │12.9 │0      │15.1  │0     │6.1  │3.9     │7.3      │0     │0     │1       │0      │30    │50   │1     │20      │32660  │0      │0       │0      │0        │0   │0    │0   │0      │0        │0    │0     │0       │0     │1    │60    │60    │60    │60     │60      │60      │56      │0       │0       │0       │0     │MFFC  │MFF    │1      │MFFCDR│0.5       │0.5     │0.5    │0.5       │0.155│\n",
       "└──────┴──┴─────────┴──────┴───────┴─────┴─────┴───────┴──────┴──────┴─────┴────────┴─────────┴──────┴──────┴────────┴───────┴──────┴─────┴──────┴────────┴───────┴───────┴────────┴───────┴─────────┴────┴─────┴────┴───────┴─────────┴─────┴──────┴────────┴──────┴─────┴──────┴──────┴──────┴───────┴────────┴────────┴────────┴────────┴────────┴────────┴──────┴──────┴───────┴───────┴──────┴──────────┴────────┴───────┴──────────┴─────┘\n",
       "</span>"
      ]
     },
     "execution_count": 11,
     "metadata": {},
     "output_type": "execute_result"
    }
   ],
   "source": [
    "db.value"
   ]
  },
  {
   "cell_type": "code",
   "execution_count": 12,
   "id": "19becbc9",
   "metadata": {},
   "outputs": [
    {
     "data": {
      "text/html": [
       "<span style=\"white-space:pre; font-family: monospace\">1\n",
       "</span>"
      ]
     },
     "execution_count": 12,
     "metadata": {},
     "output_type": "execute_result"
    }
   ],
   "source": [
    "cb.value[⍳6;]≡db.value"
   ]
  },
  {
   "cell_type": "code",
   "execution_count": 13,
   "id": "db65d70c",
   "metadata": {},
   "outputs": [],
   "source": [
    "data←r.eval 'cobasket[Period<201810,.(BH=sum(Block),Pro=sum(Prorated),.N),by=.(Pos,Id)][positions,on=.(Pos=Pos),nomatch=0][(N==12&Pro<60),.(PosTra,BH)]'"
   ]
  },
  {
   "cell_type": "code",
   "execution_count": 14,
   "id": "f4fb4c60",
   "metadata": {},
   "outputs": [
    {
     "data": {
      "application/vnd.vegalite.v4+json": {
       "$schema": "https://vega.github.io/schema/vega-lite/v5.json",
       "data": {
        "values": [
         {
          "BH": 531.4,
          "PosTra": "NBCDR"
         },
         {
          "BH": 654.3,
          "PosTra": "NBCDR"
         },
         {
          "BH": 746.2,
          "PosTra": "NBCDR"
         },
         {
          "BH": 666,
          "PosTra": "NBCDR"
         },
         {
          "BH": 729.4,
          "PosTra": "NBCDR"
         },
         {
          "BH": 688.3,
          "PosTra": "NBCDR"
         },
         {
          "BH": 655.7,
          "PosTra": "NBCDR"
         },
         {
          "BH": 342.7,
          "PosTra": "NBCDR"
         },
         {
          "BH": 474,
          "PosTra": "NBCDR"
         },
         {
          "BH": 752.1,
          "PosTra": "NBCDR"
         },
         {
          "BH": 643,
          "PosTra": "NBCDR"
         },
         {
          "BH": 790.2,
          "PosTra": "NBCDR"
         },
         {
          "BH": 719.2,
          "PosTra": "NBCDR"
         },
         {
          "BH": 650.2,
          "PosTra": "NBCDR"
         },
         {
          "BH": 704.6,
          "PosTra": "NBCDR"
         },
         {
          "BH": 678.3,
          "PosTra": "NBCDR"
         },
         {
          "BH": 698.6,
          "PosTra": "NBCDR"
         },
         {
          "BH": 703.3,
          "PosTra": "NBCDR"
         },
         {
          "BH": 651,
          "PosTra": "NBCDR"
         },
         {
          "BH": 417.9,
          "PosTra": "NBCDR"
         },
         {
          "BH": 832,
          "PosTra": "NBCDR"
         },
         {
          "BH": 644.7,
          "PosTra": "NBCDR"
         },
         {
          "BH": 398.2,
          "PosTra": "NBCDR"
         },
         {
          "BH": 657.4,
          "PosTra": "NBCDR"
         },
         {
          "BH": 391.2,
          "PosTra": "NBCDR"
         },
         {
          "BH": 368.2,
          "PosTra": "NBCDR"
         },
         {
          "BH": 696.3,
          "PosTra": "NBCDR"
         },
         {
          "BH": 667.9,
          "PosTra": "NBCDR"
         },
         {
          "BH": 650.3,
          "PosTra": "NBCDR"
         },
         {
          "BH": 733.4,
          "PosTra": "NBCDR"
         },
         {
          "BH": 639,
          "PosTra": "NBCDR"
         },
         {
          "BH": 486.2,
          "PosTra": "NBCDR"
         },
         {
          "BH": 747,
          "PosTra": "NBCDR"
         },
         {
          "BH": 694.8,
          "PosTra": "NBCDR"
         },
         {
          "BH": 709.2,
          "PosTra": "NBCDR"
         },
         {
          "BH": 708.2,
          "PosTra": "NBCDR"
         },
         {
          "BH": 371.2,
          "PosTra": "NBCDR"
         },
         {
          "BH": 484.7,
          "PosTra": "NBCDR"
         },
         {
          "BH": 649.8,
          "PosTra": "NBCDR"
         },
         {
          "BH": 667.4,
          "PosTra": "NBCDR"
         },
         {
          "BH": 681.8,
          "PosTra": "NBCDR"
         },
         {
          "BH": 703.1,
          "PosTra": "NBCDR"
         },
         {
          "BH": 692.3,
          "PosTra": "NBCDR"
         },
         {
          "BH": 719,
          "PosTra": "NBCDR"
         },
         {
          "BH": 808,
          "PosTra": "NBCDR"
         },
         {
          "BH": 719.3,
          "PosTra": "NBCDR"
         },
         {
          "BH": 679.9,
          "PosTra": "NBCDR"
         },
         {
          "BH": 582.1,
          "PosTra": "NBCDR"
         },
         {
          "BH": 619.2,
          "PosTra": "NBCDR"
         },
         {
          "BH": 314.8,
          "PosTra": "NBCDR"
         },
         {
          "BH": 648.6,
          "PosTra": "NBCDR"
         },
         {
          "BH": 668.2,
          "PosTra": "NBCDR"
         },
         {
          "BH": 734,
          "PosTra": "NBCDR"
         },
         {
          "BH": 722.2,
          "PosTra": "NBCDR"
         },
         {
          "BH": 740.3,
          "PosTra": "NBCDR"
         },
         {
          "BH": 353.4,
          "PosTra": "NBCDR"
         },
         {
          "BH": 714.2,
          "PosTra": "NBCDR"
         },
         {
          "BH": 721.2,
          "PosTra": "NBCDR"
         },
         {
          "BH": 715.5,
          "PosTra": "NBCDR"
         },
         {
          "BH": 645.9,
          "PosTra": "NBCDR"
         },
         {
          "BH": 751.4,
          "PosTra": "NBCDR"
         },
         {
          "BH": 587.1,
          "PosTra": "NBCDR"
         },
         {
          "BH": 685.1,
          "PosTra": "NBCDR"
         },
         {
          "BH": 643.4,
          "PosTra": "NBCDR"
         },
         {
          "BH": 351.7,
          "PosTra": "NBCDR"
         },
         {
          "BH": 745,
          "PosTra": "NBCDR"
         },
         {
          "BH": 682.2,
          "PosTra": "NBCDR"
         },
         {
          "BH": 579.2,
          "PosTra": "NBCDR"
         },
         {
          "BH": 707.4,
          "PosTra": "NBCDR"
         },
         {
          "BH": 658.1,
          "PosTra": "NBCDR"
         },
         {
          "BH": 647.1,
          "PosTra": "NBCDR"
         },
         {
          "BH": 540.8,
          "PosTra": "NBCDR"
         },
         {
          "BH": 756.5,
          "PosTra": "NBCDR"
         },
         {
          "BH": 597.7,
          "PosTra": "NBCOP"
         },
         {
          "BH": 671,
          "PosTra": "NBCOP"
         },
         {
          "BH": 609,
          "PosTra": "NBCOP"
         },
         {
          "BH": 586.7,
          "PosTra": "NBCOP"
         },
         {
          "BH": 476,
          "PosTra": "NBCOP"
         },
         {
          "BH": 632,
          "PosTra": "NBCOP"
         },
         {
          "BH": 635.4,
          "PosTra": "NBCOP"
         },
         {
          "BH": 633.3,
          "PosTra": "NBCOP"
         },
         {
          "BH": 554.6,
          "PosTra": "NBCOP"
         },
         {
          "BH": 643,
          "PosTra": "NBCOP"
         },
         {
          "BH": 683.5,
          "PosTra": "NBCOP"
         },
         {
          "BH": 622.7,
          "PosTra": "NBCOP"
         },
         {
          "BH": 679.6,
          "PosTra": "NBCOP"
         },
         {
          "BH": 676.8,
          "PosTra": "NBCOP"
         },
         {
          "BH": 652,
          "PosTra": "NBCOP"
         },
         {
          "BH": 679.7,
          "PosTra": "NBCOP"
         },
         {
          "BH": 617.1,
          "PosTra": "NBCOP"
         },
         {
          "BH": 586.9,
          "PosTra": "NBCOP"
         },
         {
          "BH": 618.5,
          "PosTra": "NBCOP"
         },
         {
          "BH": 587.8,
          "PosTra": "NBCOP"
         },
         {
          "BH": 643.5,
          "PosTra": "NBCOP"
         },
         {
          "BH": 687.6,
          "PosTra": "NBCOP"
         },
         {
          "BH": 627.3,
          "PosTra": "NBCOP"
         },
         {
          "BH": 611.8,
          "PosTra": "NBCOP"
         },
         {
          "BH": 655.5,
          "PosTra": "NBCOP"
         },
         {
          "BH": 632.9,
          "PosTra": "NBCOP"
         },
         {
          "BH": 775.5,
          "PosTra": "NBCOP"
         },
         {
          "BH": 606.8,
          "PosTra": "NBCOP"
         },
         {
          "BH": 669.3,
          "PosTra": "NBCOP"
         },
         {
          "BH": 641.9,
          "PosTra": "NBCOP"
         },
         {
          "BH": 635.7,
          "PosTra": "NBCOP"
         },
         {
          "BH": 630.6,
          "PosTra": "NBCOP"
         },
         {
          "BH": 670.5,
          "PosTra": "NBCOP"
         },
         {
          "BH": 454,
          "PosTra": "NBCOP"
         },
         {
          "BH": 617.7,
          "PosTra": "NBCOP"
         },
         {
          "BH": 625,
          "PosTra": "NBCOP"
         },
         {
          "BH": 629,
          "PosTra": "NBCOP"
         },
         {
          "BH": 673.2,
          "PosTra": "NBCOP"
         },
         {
          "BH": 603.5,
          "PosTra": "NBCOP"
         },
         {
          "BH": 624.9,
          "PosTra": "NBCOP"
         },
         {
          "BH": 693.9,
          "PosTra": "NBCOP"
         },
         {
          "BH": 665.4,
          "PosTra": "NBCOP"
         },
         {
          "BH": 700.6,
          "PosTra": "NBCOP"
         },
         {
          "BH": 643.3,
          "PosTra": "NBCOP"
         },
         {
          "BH": 626.4,
          "PosTra": "NBCOP"
         },
         {
          "BH": 740.3,
          "PosTra": "NBCOP"
         },
         {
          "BH": 602.4,
          "PosTra": "NBCOP"
         },
         {
          "BH": 654.9,
          "PosTra": "NBCOP"
         },
         {
          "BH": 693,
          "PosTra": "NBCOP"
         },
         {
          "BH": 732,
          "PosTra": "NBCOP"
         },
         {
          "BH": 722.5,
          "PosTra": "NBCOP"
         },
         {
          "BH": 662.6,
          "PosTra": "NBCOP"
         },
         {
          "BH": 577.2,
          "PosTra": "NBCOP"
         },
         {
          "BH": 662.3,
          "PosTra": "NBCOP"
         },
         {
          "BH": 639.1,
          "PosTra": "NBCOP"
         },
         {
          "BH": 634.2,
          "PosTra": "NBCOP"
         },
         {
          "BH": 683.9,
          "PosTra": "NBCOP"
         },
         {
          "BH": 638.1,
          "PosTra": "NBCOP"
         },
         {
          "BH": 655,
          "PosTra": "NBCOP"
         },
         {
          "BH": 697.3,
          "PosTra": "NBCOP"
         },
         {
          "BH": 645,
          "PosTra": "NBCOP"
         },
         {
          "BH": 617.7,
          "PosTra": "NBCOP"
         },
         {
          "BH": 703.3,
          "PosTra": "NBCOP"
         },
         {
          "BH": 672.3,
          "PosTra": "NBCOP"
         },
         {
          "BH": 764,
          "PosTra": "NBCOP"
         },
         {
          "BH": 697.1,
          "PosTra": "NBCOP"
         },
         {
          "BH": 761.9,
          "PosTra": "NBCOP"
         },
         {
          "BH": 629.5,
          "PosTra": "MFFCDR"
         },
         {
          "BH": 745.5,
          "PosTra": "MFFCDR"
         },
         {
          "BH": 797,
          "PosTra": "MFFCDR"
         },
         {
          "BH": 856.6,
          "PosTra": "MFFCDR"
         },
         {
          "BH": 668.8,
          "PosTra": "MFFCDR"
         },
         {
          "BH": 758.2,
          "PosTra": "MFFCDR"
         },
         {
          "BH": 686.6,
          "PosTra": "MFFCDR"
         },
         {
          "BH": 750.1,
          "PosTra": "MFFCDR"
         },
         {
          "BH": 563.7,
          "PosTra": "MFFCDR"
         },
         {
          "BH": 796.9,
          "PosTra": "MFFCDR"
         },
         {
          "BH": 600.3,
          "PosTra": "MFFCDR"
         },
         {
          "BH": 756.4,
          "PosTra": "MFFCDR"
         },
         {
          "BH": 469.6,
          "PosTra": "MFFCDR"
         },
         {
          "BH": 589.3,
          "PosTra": "MFFCDR"
         },
         {
          "BH": 603.5,
          "PosTra": "MFFCDR"
         },
         {
          "BH": 583.5,
          "PosTra": "MFFCDR"
         },
         {
          "BH": 545.2,
          "PosTra": "MFFCDR"
         },
         {
          "BH": 612.3,
          "PosTra": "MFFCDR"
         },
         {
          "BH": 646.4,
          "PosTra": "MFFCDR"
         },
         {
          "BH": 630.9,
          "PosTra": "MFFCDR"
         },
         {
          "BH": 867.1,
          "PosTra": "MFFCDR"
         },
         {
          "BH": 713,
          "PosTra": "MFFCDR"
         },
         {
          "BH": 835.7,
          "PosTra": "MFFCDR"
         },
         {
          "BH": 806.9,
          "PosTra": "MFFCDR"
         },
         {
          "BH": 719.6,
          "PosTra": "MFFCDR"
         },
         {
          "BH": 479.2,
          "PosTra": "MFFCDR"
         },
         {
          "BH": 758,
          "PosTra": "MFFCDR"
         },
         {
          "BH": 720,
          "PosTra": "MFFCDR"
         },
         {
          "BH": 776.5,
          "PosTra": "MFFCDR"
         },
         {
          "BH": 346.8,
          "PosTra": "MFFCDR"
         },
         {
          "BH": 611.9,
          "PosTra": "MFFCOP"
         },
         {
          "BH": 809.8,
          "PosTra": "MFFCOP"
         },
         {
          "BH": 699.8,
          "PosTra": "WBCDR"
         },
         {
          "BH": 765.7,
          "PosTra": "WBCDR"
         },
         {
          "BH": 666.4,
          "PosTra": "WBCDR"
         },
         {
          "BH": 768.2,
          "PosTra": "WBCDR"
         },
         {
          "BH": 560.4,
          "PosTra": "WBCDR"
         },
         {
          "BH": 648.1,
          "PosTra": "WBCDR"
         },
         {
          "BH": 711.3,
          "PosTra": "WBCDR"
         },
         {
          "BH": 692.1,
          "PosTra": "WBCDR"
         },
         {
          "BH": 632.6,
          "PosTra": "WBCDR"
         },
         {
          "BH": 467.6,
          "PosTra": "WBCDR"
         },
         {
          "BH": 775.8,
          "PosTra": "WBCDR"
         },
         {
          "BH": 558,
          "PosTra": "WBCDR"
         },
         {
          "BH": 754.2,
          "PosTra": "WBCDR"
         },
         {
          "BH": 773.9,
          "PosTra": "WBCDR"
         },
         {
          "BH": 608.2,
          "PosTra": "WBCDR"
         },
         {
          "BH": 788.4,
          "PosTra": "WBCDR"
         },
         {
          "BH": 739.4,
          "PosTra": "WBCDR"
         },
         {
          "BH": 726.7,
          "PosTra": "WBCDR"
         },
         {
          "BH": 726.6,
          "PosTra": "WBCDR"
         },
         {
          "BH": 669,
          "PosTra": "WBCDR"
         },
         {
          "BH": 534.2,
          "PosTra": "WBCDR"
         },
         {
          "BH": 663.2,
          "PosTra": "WBCDR"
         },
         {
          "BH": 896.7,
          "PosTra": "WBCDR"
         },
         {
          "BH": 717.4,
          "PosTra": "WBCDR"
         },
         {
          "BH": 806.5,
          "PosTra": "WBCDR"
         },
         {
          "BH": 705.2,
          "PosTra": "WBCDR"
         },
         {
          "BH": 685.3,
          "PosTra": "WBCDR"
         },
         {
          "BH": 702.9,
          "PosTra": "WBCDR"
         },
         {
          "BH": 710.7,
          "PosTra": "WBCDR"
         },
         {
          "BH": 708.4,
          "PosTra": "WBCDR"
         },
         {
          "BH": 742.4,
          "PosTra": "WBCDR"
         },
         {
          "BH": 664.2,
          "PosTra": "WBCDR"
         },
         {
          "BH": 818.7,
          "PosTra": "WBCDR"
         },
         {
          "BH": 652.3,
          "PosTra": "WBCDR"
         },
         {
          "BH": 771.8,
          "PosTra": "WBCDR"
         },
         {
          "BH": 722,
          "PosTra": "WBCDR"
         },
         {
          "BH": 768,
          "PosTra": "WBCDR"
         },
         {
          "BH": 656.6,
          "PosTra": "WBCDR"
         },
         {
          "BH": 546.4,
          "PosTra": "WBCDR"
         },
         {
          "BH": 768.7,
          "PosTra": "WBCDR"
         },
         {
          "BH": 637.9,
          "PosTra": "WBCDR"
         },
         {
          "BH": 707.2,
          "PosTra": "WBCDR"
         },
         {
          "BH": 808.2,
          "PosTra": "WBCDR"
         },
         {
          "BH": 679.1,
          "PosTra": "WBCDR"
         },
         {
          "BH": 690.8,
          "PosTra": "WBCDR"
         },
         {
          "BH": 541.8,
          "PosTra": "WBCDR"
         },
         {
          "BH": 549,
          "PosTra": "WBCDR"
         },
         {
          "BH": 716.4,
          "PosTra": "WBCDR"
         },
         {
          "BH": 813.1,
          "PosTra": "WBCDR"
         },
         {
          "BH": 765,
          "PosTra": "WBCDR"
         },
         {
          "BH": 558.1,
          "PosTra": "WBCDR"
         },
         {
          "BH": 565.1,
          "PosTra": "WBCDR"
         },
         {
          "BH": 728.4,
          "PosTra": "WBCDR"
         },
         {
          "BH": 728.5,
          "PosTra": "WBCDR"
         },
         {
          "BH": 574.4,
          "PosTra": "WBCDR"
         },
         {
          "BH": 673.7,
          "PosTra": "WBCDR"
         },
         {
          "BH": 636.3,
          "PosTra": "WBCDR"
         },
         {
          "BH": 641.9,
          "PosTra": "WBCDR"
         },
         {
          "BH": 421.2,
          "PosTra": "WBCDR"
         },
         {
          "BH": 670.6,
          "PosTra": "WBCDR"
         },
         {
          "BH": 662.8,
          "PosTra": "WBCDR"
         },
         {
          "BH": 721.1,
          "PosTra": "WBCDR"
         },
         {
          "BH": 748.1,
          "PosTra": "WBCDR"
         },
         {
          "BH": 682.1,
          "PosTra": "WBCDR"
         },
         {
          "BH": 537.5,
          "PosTra": "WBCDR"
         },
         {
          "BH": 583.2,
          "PosTra": "WBCDR"
         },
         {
          "BH": 594.8,
          "PosTra": "WBCDR"
         },
         {
          "BH": 642.6,
          "PosTra": "WBCDR"
         },
         {
          "BH": 706.7,
          "PosTra": "WBCDR"
         },
         {
          "BH": 610.6,
          "PosTra": "WBCDR"
         },
         {
          "BH": 737.8,
          "PosTra": "WBCDR"
         },
         {
          "BH": 671.2,
          "PosTra": "WBCDR"
         },
         {
          "BH": 764.3,
          "PosTra": "WBCDR"
         },
         {
          "BH": 501.3,
          "PosTra": "WBCDR"
         },
         {
          "BH": 810.6,
          "PosTra": "WBCDR"
         },
         {
          "BH": 777.7,
          "PosTra": "WBCDR"
         },
         {
          "BH": 734.7,
          "PosTra": "WBCDR"
         },
         {
          "BH": 809.9,
          "PosTra": "WBCDR"
         },
         {
          "BH": 757.3,
          "PosTra": "WBCDR"
         },
         {
          "BH": 645.6,
          "PosTra": "WBCDR"
         },
         {
          "BH": 745.1,
          "PosTra": "WBCDR"
         },
         {
          "BH": 666.6,
          "PosTra": "WBCOP"
         },
         {
          "BH": 628.8,
          "PosTra": "WBCOP"
         },
         {
          "BH": 573.1,
          "PosTra": "WBCOP"
         },
         {
          "BH": 415.3,
          "PosTra": "WBCOP"
         },
         {
          "BH": 655.3,
          "PosTra": "WBCOP"
         },
         {
          "BH": 618,
          "PosTra": "WBCOP"
         },
         {
          "BH": 707.1,
          "PosTra": "WBCOP"
         },
         {
          "BH": 723.1,
          "PosTra": "WBCOP"
         },
         {
          "BH": 743.5,
          "PosTra": "WBCOP"
         },
         {
          "BH": 672.7,
          "PosTra": "WBCOP"
         },
         {
          "BH": 781.9,
          "PosTra": "WBCOP"
         },
         {
          "BH": 706.1,
          "PosTra": "WBCOP"
         },
         {
          "BH": 443,
          "PosTra": "WBCOP"
         },
         {
          "BH": 685.8,
          "PosTra": "WBCOP"
         },
         {
          "BH": 778.6,
          "PosTra": "WBCOP"
         },
         {
          "BH": 662.9,
          "PosTra": "WBCOP"
         },
         {
          "BH": 664.5,
          "PosTra": "WBCOP"
         },
         {
          "BH": 771.7,
          "PosTra": "WBCOP"
         },
         {
          "BH": 809.3,
          "PosTra": "WBCOP"
         },
         {
          "BH": 744.2,
          "PosTra": "WBCOP"
         },
         {
          "BH": 646.5,
          "PosTra": "WBCOP"
         },
         {
          "BH": 678.8,
          "PosTra": "WBCOP"
         },
         {
          "BH": 823,
          "PosTra": "WBCOP"
         },
         {
          "BH": 627,
          "PosTra": "WBCOP"
         },
         {
          "BH": 707.3,
          "PosTra": "WBCOP"
         },
         {
          "BH": 751.2,
          "PosTra": "WBCOP"
         },
         {
          "BH": 670.6,
          "PosTra": "WBCOP"
         },
         {
          "BH": 695.4,
          "PosTra": "WBCOP"
         },
         {
          "BH": 766.6,
          "PosTra": "WBCOP"
         },
         {
          "BH": 695.5,
          "PosTra": "WBCOP"
         },
         {
          "BH": 620.3,
          "PosTra": "WBCOP"
         },
         {
          "BH": 772.4,
          "PosTra": "WBCOP"
         },
         {
          "BH": 485.1,
          "PosTra": "WBCOP"
         },
         {
          "BH": 756.7,
          "PosTra": "WBCOP"
         },
         {
          "BH": 727.4,
          "PosTra": "WBCOP"
         },
         {
          "BH": 686.3,
          "PosTra": "WBCOP"
         },
         {
          "BH": 606.4,
          "PosTra": "WBCOP"
         },
         {
          "BH": 744.1,
          "PosTra": "WBCOP"
         },
         {
          "BH": 690.4,
          "PosTra": "WBCOP"
         },
         {
          "BH": 699.9,
          "PosTra": "WBCOP"
         },
         {
          "BH": 775.7,
          "PosTra": "WBCOP"
         },
         {
          "BH": 745.2,
          "PosTra": "WBCOP"
         },
         {
          "BH": 716.9,
          "PosTra": "WBCOP"
         },
         {
          "BH": 570.4,
          "PosTra": "WBCOP"
         },
         {
          "BH": 630.2,
          "PosTra": "WBCOP"
         },
         {
          "BH": 412,
          "PosTra": "WBCOP"
         },
         {
          "BH": 491.4,
          "PosTra": "WBCOP"
         },
         {
          "BH": 641,
          "PosTra": "WBCOP"
         },
         {
          "BH": 617.7,
          "PosTra": "WBCOP"
         },
         {
          "BH": 607.5,
          "PosTra": "WBCOP"
         },
         {
          "BH": 651.6,
          "PosTra": "WBCOP"
         },
         {
          "BH": 552.7,
          "PosTra": "WBCOP"
         },
         {
          "BH": 661.2,
          "PosTra": "WBCOP"
         },
         {
          "BH": 711.9,
          "PosTra": "WBCOP"
         },
         {
          "BH": 634.8,
          "PosTra": "WBCOP"
         },
         {
          "BH": 567.9,
          "PosTra": "WBCOP"
         },
         {
          "BH": 663.7,
          "PosTra": "WBCOP"
         },
         {
          "BH": 601.1,
          "PosTra": "WBCOP"
         },
         {
          "BH": 714.4,
          "PosTra": "WBCOP"
         },
         {
          "BH": 682.1,
          "PosTra": "WBCOP"
         },
         {
          "BH": 619.2,
          "PosTra": "WBCOP"
         },
         {
          "BH": 288.6,
          "PosTra": "WBCOP"
         },
         {
          "BH": 641.2,
          "PosTra": "WBCOP"
         }
        ]
       },
       "description": "A vertical box plot showing median, min, and max block hours.",
       "encoding": {
        "color": {
         "field": "PosTra",
         "legend": null,
         "type": "nominal"
        },
        "size": {
         "value": 90
        },
        "x": {
         "field": "PosTra",
         "type": "nominal"
        },
        "y": {
         "field": "BH",
         "scale": {
          "zero": false
         },
         "type": "quantitative"
        }
       },
       "height": 400,
       "mark": {
        "extent": "min-max",
        "type": "boxplot"
       },
       "width": 800
      },
      "image/png": "[encoded data removed]"
     },
     "metadata": {},
     "output_type": "display_data"
    }
   ],
   "source": [
    ":vega-lite\n",
    "('PosTra' 'BH')vega.boxplot data.attributes[⊂'names']vega.json_data↓⍉↑data.data"
   ]
  },
  {
   "cell_type": "code",
   "execution_count": 15,
   "id": "f8eea0c5",
   "metadata": {},
   "outputs": [],
   "source": [
    "data←r.eval 'cobasket[Period<201810,.(BH=sum(Block),Pro=sum(Prorated),.N),by=.(Pos,Id)][positions,on=.(Pos=Pos),nomatch=0][(N==12),.(PosTra,BH)]'"
   ]
  },
  {
   "cell_type": "code",
   "execution_count": 16,
   "id": "3528f3cd",
   "metadata": {},
   "outputs": [
    {
     "data": {
      "application/vnd.vegalite.v4+json": {
       "$schema": "https://vega.github.io/schema/vega-lite/v5.json",
       "data": {
        "values": [
         {
          "BH": 531.4,
          "PosTra": "NBCDR"
         },
         {
          "BH": 333.6,
          "PosTra": "NBCDR"
         },
         {
          "BH": 654.3,
          "PosTra": "NBCDR"
         },
         {
          "BH": 319.1,
          "PosTra": "NBCDR"
         },
         {
          "BH": 746.2,
          "PosTra": "NBCDR"
         },
         {
          "BH": 666,
          "PosTra": "NBCDR"
         },
         {
          "BH": 729.4,
          "PosTra": "NBCDR"
         },
         {
          "BH": 562.5,
          "PosTra": "NBCDR"
         },
         {
          "BH": 582.8,
          "PosTra": "NBCDR"
         },
         {
          "BH": 688.3,
          "PosTra": "NBCDR"
         },
         {
          "BH": 655.7,
          "PosTra": "NBCDR"
         },
         {
          "BH": 342.7,
          "PosTra": "NBCDR"
         },
         {
          "BH": 440.7,
          "PosTra": "NBCDR"
         },
         {
          "BH": 474,
          "PosTra": "NBCDR"
         },
         {
          "BH": 752.1,
          "PosTra": "NBCDR"
         },
         {
          "BH": 439.2,
          "PosTra": "NBCDR"
         },
         {
          "BH": 643,
          "PosTra": "NBCDR"
         },
         {
          "BH": 790.2,
          "PosTra": "NBCDR"
         },
         {
          "BH": 543.1,
          "PosTra": "NBCDR"
         },
         {
          "BH": 719.2,
          "PosTra": "NBCDR"
         },
         {
          "BH": 596,
          "PosTra": "NBCDR"
         },
         {
          "BH": 650.2,
          "PosTra": "NBCDR"
         },
         {
          "BH": 506.8,
          "PosTra": "NBCDR"
         },
         {
          "BH": 704.6,
          "PosTra": "NBCDR"
         },
         {
          "BH": 694,
          "PosTra": "NBCDR"
         },
         {
          "BH": 678.3,
          "PosTra": "NBCDR"
         },
         {
          "BH": 436.7,
          "PosTra": "NBCDR"
         },
         {
          "BH": 630.4,
          "PosTra": "NBCDR"
         },
         {
          "BH": 698.6,
          "PosTra": "NBCDR"
         },
         {
          "BH": 703.3,
          "PosTra": "NBCDR"
         },
         {
          "BH": 511.6,
          "PosTra": "NBCDR"
         },
         {
          "BH": 651,
          "PosTra": "NBCDR"
         },
         {
          "BH": 417.9,
          "PosTra": "NBCDR"
         },
         {
          "BH": 832,
          "PosTra": "NBCDR"
         },
         {
          "BH": 597.3,
          "PosTra": "NBCDR"
         },
         {
          "BH": 644.7,
          "PosTra": "NBCDR"
         },
         {
          "BH": 398.2,
          "PosTra": "NBCDR"
         },
         {
          "BH": 411.2,
          "PosTra": "NBCDR"
         },
         {
          "BH": 502,
          "PosTra": "NBCDR"
         },
         {
          "BH": 515.6,
          "PosTra": "NBCDR"
         },
         {
          "BH": 657.4,
          "PosTra": "NBCDR"
         },
         {
          "BH": 198.4,
          "PosTra": "NBCDR"
         },
         {
          "BH": 391.2,
          "PosTra": "NBCDR"
         },
         {
          "BH": 599.2,
          "PosTra": "NBCDR"
         },
         {
          "BH": 368.2,
          "PosTra": "NBCDR"
         },
         {
          "BH": 757.5,
          "PosTra": "NBCDR"
         },
         {
          "BH": 652.6,
          "PosTra": "NBCDR"
         },
         {
          "BH": 544.8,
          "PosTra": "NBCDR"
         },
         {
          "BH": 696.3,
          "PosTra": "NBCDR"
         },
         {
          "BH": 667.9,
          "PosTra": "NBCDR"
         },
         {
          "BH": 646.7,
          "PosTra": "NBCDR"
         },
         {
          "BH": 650.3,
          "PosTra": "NBCDR"
         },
         {
          "BH": 565.5,
          "PosTra": "NBCDR"
         },
         {
          "BH": 646.7,
          "PosTra": "NBCDR"
         },
         {
          "BH": 699.6,
          "PosTra": "NBCDR"
         },
         {
          "BH": 733.4,
          "PosTra": "NBCDR"
         },
         {
          "BH": 302.7,
          "PosTra": "NBCDR"
         },
         {
          "BH": 466,
          "PosTra": "NBCDR"
         },
         {
          "BH": 621.7,
          "PosTra": "NBCDR"
         },
         {
          "BH": 639,
          "PosTra": "NBCDR"
         },
         {
          "BH": 486.2,
          "PosTra": "NBCDR"
         },
         {
          "BH": 747,
          "PosTra": "NBCDR"
         },
         {
          "BH": 694.8,
          "PosTra": "NBCDR"
         },
         {
          "BH": 709.2,
          "PosTra": "NBCDR"
         },
         {
          "BH": 708.2,
          "PosTra": "NBCDR"
         },
         {
          "BH": 371.2,
          "PosTra": "NBCDR"
         },
         {
          "BH": 675.4,
          "PosTra": "NBCDR"
         },
         {
          "BH": 598,
          "PosTra": "NBCDR"
         },
         {
          "BH": 705.1,
          "PosTra": "NBCDR"
         },
         {
          "BH": 484.7,
          "PosTra": "NBCDR"
         },
         {
          "BH": 480.8,
          "PosTra": "NBCDR"
         },
         {
          "BH": 649.8,
          "PosTra": "NBCDR"
         },
         {
          "BH": 667.4,
          "PosTra": "NBCDR"
         },
         {
          "BH": 681.8,
          "PosTra": "NBCDR"
         },
         {
          "BH": 703.1,
          "PosTra": "NBCDR"
         },
         {
          "BH": 692.3,
          "PosTra": "NBCDR"
         },
         {
          "BH": 593.7,
          "PosTra": "NBCDR"
         },
         {
          "BH": 580,
          "PosTra": "NBCDR"
         },
         {
          "BH": 490.7,
          "PosTra": "NBCDR"
         },
         {
          "BH": 719,
          "PosTra": "NBCDR"
         },
         {
          "BH": 639.6,
          "PosTra": "NBCDR"
         },
         {
          "BH": 420.8,
          "PosTra": "NBCDR"
         },
         {
          "BH": 808,
          "PosTra": "NBCDR"
         },
         {
          "BH": 719.3,
          "PosTra": "NBCDR"
         },
         {
          "BH": 400.1,
          "PosTra": "NBCDR"
         },
         {
          "BH": 454.4,
          "PosTra": "NBCDR"
         },
         {
          "BH": 679.9,
          "PosTra": "NBCDR"
         },
         {
          "BH": 584.8,
          "PosTra": "NBCDR"
         },
         {
          "BH": 582.1,
          "PosTra": "NBCDR"
         },
         {
          "BH": 619.2,
          "PosTra": "NBCDR"
         },
         {
          "BH": 314.8,
          "PosTra": "NBCDR"
         },
         {
          "BH": 648.6,
          "PosTra": "NBCDR"
         },
         {
          "BH": 652.9,
          "PosTra": "NBCDR"
         },
         {
          "BH": 524.5,
          "PosTra": "NBCDR"
         },
         {
          "BH": 674.9,
          "PosTra": "NBCDR"
         },
         {
          "BH": 668.2,
          "PosTra": "NBCDR"
         },
         {
          "BH": 670.2,
          "PosTra": "NBCDR"
         },
         {
          "BH": 609.5,
          "PosTra": "NBCDR"
         },
         {
          "BH": 589,
          "PosTra": "NBCDR"
         },
         {
          "BH": 734,
          "PosTra": "NBCDR"
         },
         {
          "BH": 722.2,
          "PosTra": "NBCDR"
         },
         {
          "BH": 740.3,
          "PosTra": "NBCDR"
         },
         {
          "BH": 353.4,
          "PosTra": "NBCDR"
         },
         {
          "BH": 714.2,
          "PosTra": "NBCDR"
         },
         {
          "BH": 721.2,
          "PosTra": "NBCDR"
         },
         {
          "BH": 715.5,
          "PosTra": "NBCDR"
         },
         {
          "BH": 673.1,
          "PosTra": "NBCDR"
         },
         {
          "BH": 645.9,
          "PosTra": "NBCDR"
         },
         {
          "BH": 751.4,
          "PosTra": "NBCDR"
         },
         {
          "BH": 587.1,
          "PosTra": "NBCDR"
         },
         {
          "BH": 685.1,
          "PosTra": "NBCDR"
         },
         {
          "BH": 571,
          "PosTra": "NBCDR"
         },
         {
          "BH": 643.4,
          "PosTra": "NBCDR"
         },
         {
          "BH": 351.7,
          "PosTra": "NBCDR"
         },
         {
          "BH": 745,
          "PosTra": "NBCDR"
         },
         {
          "BH": 682.2,
          "PosTra": "NBCDR"
         },
         {
          "BH": 258.6,
          "PosTra": "NBCDR"
         },
         {
          "BH": 579.2,
          "PosTra": "NBCDR"
         },
         {
          "BH": 552.6,
          "PosTra": "NBCDR"
         },
         {
          "BH": 707.4,
          "PosTra": "NBCDR"
         },
         {
          "BH": 658.1,
          "PosTra": "NBCDR"
         },
         {
          "BH": 585,
          "PosTra": "NBCDR"
         },
         {
          "BH": 660.6,
          "PosTra": "NBCDR"
         },
         {
          "BH": 647.1,
          "PosTra": "NBCDR"
         },
         {
          "BH": 540.8,
          "PosTra": "NBCDR"
         },
         {
          "BH": 756.5,
          "PosTra": "NBCDR"
         },
         {
          "BH": 494.5,
          "PosTra": "NBCDR"
         },
         {
          "BH": 457.1,
          "PosTra": "NBCDR"
         },
         {
          "BH": 472.8,
          "PosTra": "NBCDR"
         },
         {
          "BH": 479.2,
          "PosTra": "NBCOP"
         },
         {
          "BH": 225.8,
          "PosTra": "NBCOP"
         },
         {
          "BH": 571.5,
          "PosTra": "NBCOP"
         },
         {
          "BH": 597.7,
          "PosTra": "NBCOP"
         },
         {
          "BH": 671,
          "PosTra": "NBCOP"
         },
         {
          "BH": 616.9,
          "PosTra": "NBCOP"
         },
         {
          "BH": 609,
          "PosTra": "NBCOP"
         },
         {
          "BH": 526.8,
          "PosTra": "NBCOP"
         },
         {
          "BH": 586.7,
          "PosTra": "NBCOP"
         },
         {
          "BH": 476,
          "PosTra": "NBCOP"
         },
         {
          "BH": 632,
          "PosTra": "NBCOP"
         },
         {
          "BH": 635.4,
          "PosTra": "NBCOP"
         },
         {
          "BH": 633.3,
          "PosTra": "NBCOP"
         },
         {
          "BH": 554.6,
          "PosTra": "NBCOP"
         },
         {
          "BH": 643,
          "PosTra": "NBCOP"
         },
         {
          "BH": 683.5,
          "PosTra": "NBCOP"
         },
         {
          "BH": 622.7,
          "PosTra": "NBCOP"
         },
         {
          "BH": 679.6,
          "PosTra": "NBCOP"
         },
         {
          "BH": 676.8,
          "PosTra": "NBCOP"
         },
         {
          "BH": 652,
          "PosTra": "NBCOP"
         },
         {
          "BH": 679.7,
          "PosTra": "NBCOP"
         },
         {
          "BH": 617.1,
          "PosTra": "NBCOP"
         },
         {
          "BH": 586.9,
          "PosTra": "NBCOP"
         },
         {
          "BH": 618.5,
          "PosTra": "NBCOP"
         },
         {
          "BH": 587.8,
          "PosTra": "NBCOP"
         },
         {
          "BH": 643.5,
          "PosTra": "NBCOP"
         },
         {
          "BH": 687.6,
          "PosTra": "NBCOP"
         },
         {
          "BH": 627.3,
          "PosTra": "NBCOP"
         },
         {
          "BH": 611.8,
          "PosTra": "NBCOP"
         },
         {
          "BH": 655.5,
          "PosTra": "NBCOP"
         },
         {
          "BH": 632.9,
          "PosTra": "NBCOP"
         },
         {
          "BH": 775.5,
          "PosTra": "NBCOP"
         },
         {
          "BH": 518.9,
          "PosTra": "NBCOP"
         },
         {
          "BH": 606.8,
          "PosTra": "NBCOP"
         },
         {
          "BH": 669.3,
          "PosTra": "NBCOP"
         },
         {
          "BH": 641.9,
          "PosTra": "NBCOP"
         },
         {
          "BH": 635.7,
          "PosTra": "NBCOP"
         },
         {
          "BH": 630.6,
          "PosTra": "NBCOP"
         },
         {
          "BH": 670.5,
          "PosTra": "NBCOP"
         },
         {
          "BH": 454,
          "PosTra": "NBCOP"
         },
         {
          "BH": 617.7,
          "PosTra": "NBCOP"
         },
         {
          "BH": 625,
          "PosTra": "NBCOP"
         },
         {
          "BH": 629,
          "PosTra": "NBCOP"
         },
         {
          "BH": 673.2,
          "PosTra": "NBCOP"
         },
         {
          "BH": 603.5,
          "PosTra": "NBCOP"
         },
         {
          "BH": 624.9,
          "PosTra": "NBCOP"
         },
         {
          "BH": 693.9,
          "PosTra": "NBCOP"
         },
         {
          "BH": 665.4,
          "PosTra": "NBCOP"
         },
         {
          "BH": 700.6,
          "PosTra": "NBCOP"
         },
         {
          "BH": 643.3,
          "PosTra": "NBCOP"
         },
         {
          "BH": 626.4,
          "PosTra": "NBCOP"
         },
         {
          "BH": 740.3,
          "PosTra": "NBCOP"
         },
         {
          "BH": 602.4,
          "PosTra": "NBCOP"
         },
         {
          "BH": 654.9,
          "PosTra": "NBCOP"
         },
         {
          "BH": 693,
          "PosTra": "NBCOP"
         },
         {
          "BH": 732,
          "PosTra": "NBCOP"
         },
         {
          "BH": 722.5,
          "PosTra": "NBCOP"
         },
         {
          "BH": 662.6,
          "PosTra": "NBCOP"
         },
         {
          "BH": 577.2,
          "PosTra": "NBCOP"
         },
         {
          "BH": 662.3,
          "PosTra": "NBCOP"
         },
         {
          "BH": 639.1,
          "PosTra": "NBCOP"
         },
         {
          "BH": 634.2,
          "PosTra": "NBCOP"
         },
         {
          "BH": 683.9,
          "PosTra": "NBCOP"
         },
         {
          "BH": 638.1,
          "PosTra": "NBCOP"
         },
         {
          "BH": 655,
          "PosTra": "NBCOP"
         },
         {
          "BH": 697.3,
          "PosTra": "NBCOP"
         },
         {
          "BH": 520.8,
          "PosTra": "NBCOP"
         },
         {
          "BH": 645,
          "PosTra": "NBCOP"
         },
         {
          "BH": 617.7,
          "PosTra": "NBCOP"
         },
         {
          "BH": 703.3,
          "PosTra": "NBCOP"
         },
         {
          "BH": 672.3,
          "PosTra": "NBCOP"
         },
         {
          "BH": 764,
          "PosTra": "NBCOP"
         },
         {
          "BH": 697.1,
          "PosTra": "NBCOP"
         },
         {
          "BH": 761.9,
          "PosTra": "NBCOP"
         },
         {
          "BH": 629.5,
          "PosTra": "MFFCDR"
         },
         {
          "BH": 745.5,
          "PosTra": "MFFCDR"
         },
         {
          "BH": 797,
          "PosTra": "MFFCDR"
         },
         {
          "BH": 856.6,
          "PosTra": "MFFCDR"
         },
         {
          "BH": 668.8,
          "PosTra": "MFFCDR"
         },
         {
          "BH": 758.2,
          "PosTra": "MFFCDR"
         },
         {
          "BH": 686.6,
          "PosTra": "MFFCDR"
         },
         {
          "BH": 750.1,
          "PosTra": "MFFCDR"
         },
         {
          "BH": 707.3,
          "PosTra": "MFFCDR"
         },
         {
          "BH": 512.6,
          "PosTra": "MFFCDR"
         },
         {
          "BH": 773.1,
          "PosTra": "MFFCDR"
         },
         {
          "BH": 563.7,
          "PosTra": "MFFCDR"
         },
         {
          "BH": 796.9,
          "PosTra": "MFFCDR"
         },
         {
          "BH": 617.7,
          "PosTra": "MFFCDR"
         },
         {
          "BH": 600.3,
          "PosTra": "MFFCDR"
         },
         {
          "BH": 756.4,
          "PosTra": "MFFCDR"
         },
         {
          "BH": 602.6,
          "PosTra": "MFFCDR"
         },
         {
          "BH": 469.6,
          "PosTra": "MFFCDR"
         },
         {
          "BH": 564.4,
          "PosTra": "MFFCDR"
         },
         {
          "BH": 589.3,
          "PosTra": "MFFCDR"
         },
         {
          "BH": 538.8,
          "PosTra": "MFFCDR"
         },
         {
          "BH": 608.8,
          "PosTra": "MFFCDR"
         },
         {
          "BH": 603.5,
          "PosTra": "MFFCDR"
         },
         {
          "BH": 612.3,
          "PosTra": "MFFCDR"
         },
         {
          "BH": 583.5,
          "PosTra": "MFFCDR"
         },
         {
          "BH": 545.2,
          "PosTra": "MFFCDR"
         },
         {
          "BH": 612.3,
          "PosTra": "MFFCDR"
         },
         {
          "BH": 646.4,
          "PosTra": "MFFCDR"
         },
         {
          "BH": 738.2,
          "PosTra": "MFFCDR"
         },
         {
          "BH": 450.3,
          "PosTra": "MFFCDR"
         },
         {
          "BH": 630.9,
          "PosTra": "MFFCDR"
         },
         {
          "BH": 741.9,
          "PosTra": "MFFCDR"
         },
         {
          "BH": 529.8,
          "PosTra": "MFFCDR"
         },
         {
          "BH": 867.1,
          "PosTra": "MFFCDR"
         },
         {
          "BH": 614.1,
          "PosTra": "MFFCDR"
         },
         {
          "BH": 579.9,
          "PosTra": "MFFCDR"
         },
         {
          "BH": 719.4,
          "PosTra": "MFFCDR"
         },
         {
          "BH": 713,
          "PosTra": "MFFCDR"
         },
         {
          "BH": 835.7,
          "PosTra": "MFFCDR"
         },
         {
          "BH": 806.9,
          "PosTra": "MFFCDR"
         },
         {
          "BH": 719.6,
          "PosTra": "MFFCDR"
         },
         {
          "BH": 707.6,
          "PosTra": "MFFCDR"
         },
         {
          "BH": 479.2,
          "PosTra": "MFFCDR"
         },
         {
          "BH": 758,
          "PosTra": "MFFCDR"
         },
         {
          "BH": 472.1,
          "PosTra": "MFFCDR"
         },
         {
          "BH": 720,
          "PosTra": "MFFCDR"
         },
         {
          "BH": 776.5,
          "PosTra": "MFFCDR"
         },
         {
          "BH": 346.8,
          "PosTra": "MFFCDR"
         },
         {
          "BH": 611.9,
          "PosTra": "MFFCOP"
         },
         {
          "BH": 809.8,
          "PosTra": "MFFCOP"
         },
         {
          "BH": 699.8,
          "PosTra": "WBCDR"
         },
         {
          "BH": 765.7,
          "PosTra": "WBCDR"
         },
         {
          "BH": 666.4,
          "PosTra": "WBCDR"
         },
         {
          "BH": 768.2,
          "PosTra": "WBCDR"
         },
         {
          "BH": 560.4,
          "PosTra": "WBCDR"
         },
         {
          "BH": 648.1,
          "PosTra": "WBCDR"
         },
         {
          "BH": 711.3,
          "PosTra": "WBCDR"
         },
         {
          "BH": 692.1,
          "PosTra": "WBCDR"
         },
         {
          "BH": 632.6,
          "PosTra": "WBCDR"
         },
         {
          "BH": 467.6,
          "PosTra": "WBCDR"
         },
         {
          "BH": 775.8,
          "PosTra": "WBCDR"
         },
         {
          "BH": 558,
          "PosTra": "WBCDR"
         },
         {
          "BH": 613.2,
          "PosTra": "WBCDR"
         },
         {
          "BH": 754.2,
          "PosTra": "WBCDR"
         },
         {
          "BH": 773.9,
          "PosTra": "WBCDR"
         },
         {
          "BH": 608.2,
          "PosTra": "WBCDR"
         },
         {
          "BH": 537.4,
          "PosTra": "WBCDR"
         },
         {
          "BH": 788.4,
          "PosTra": "WBCDR"
         },
         {
          "BH": 739.4,
          "PosTra": "WBCDR"
         },
         {
          "BH": 628.4,
          "PosTra": "WBCDR"
         },
         {
          "BH": 726.7,
          "PosTra": "WBCDR"
         },
         {
          "BH": 726.6,
          "PosTra": "WBCDR"
         },
         {
          "BH": 669,
          "PosTra": "WBCDR"
         },
         {
          "BH": 534.2,
          "PosTra": "WBCDR"
         },
         {
          "BH": 663.2,
          "PosTra": "WBCDR"
         },
         {
          "BH": 896.7,
          "PosTra": "WBCDR"
         },
         {
          "BH": 717.4,
          "PosTra": "WBCDR"
         },
         {
          "BH": 806.5,
          "PosTra": "WBCDR"
         },
         {
          "BH": 705.2,
          "PosTra": "WBCDR"
         },
         {
          "BH": 685.3,
          "PosTra": "WBCDR"
         },
         {
          "BH": 702.9,
          "PosTra": "WBCDR"
         },
         {
          "BH": 710.7,
          "PosTra": "WBCDR"
         },
         {
          "BH": 708.4,
          "PosTra": "WBCDR"
         },
         {
          "BH": 742.4,
          "PosTra": "WBCDR"
         },
         {
          "BH": 636.3,
          "PosTra": "WBCDR"
         },
         {
          "BH": 664.2,
          "PosTra": "WBCDR"
         },
         {
          "BH": 818.7,
          "PosTra": "WBCDR"
         },
         {
          "BH": 652.3,
          "PosTra": "WBCDR"
         },
         {
          "BH": 771.8,
          "PosTra": "WBCDR"
         },
         {
          "BH": 722,
          "PosTra": "WBCDR"
         },
         {
          "BH": 710.3,
          "PosTra": "WBCDR"
         },
         {
          "BH": 768,
          "PosTra": "WBCDR"
         },
         {
          "BH": 656.6,
          "PosTra": "WBCDR"
         },
         {
          "BH": 546.4,
          "PosTra": "WBCDR"
         },
         {
          "BH": 768.7,
          "PosTra": "WBCDR"
         },
         {
          "BH": 715,
          "PosTra": "WBCDR"
         },
         {
          "BH": 550.7,
          "PosTra": "WBCDR"
         },
         {
          "BH": 637.9,
          "PosTra": "WBCDR"
         },
         {
          "BH": 707.2,
          "PosTra": "WBCDR"
         },
         {
          "BH": 808.2,
          "PosTra": "WBCDR"
         },
         {
          "BH": 679.1,
          "PosTra": "WBCDR"
         },
         {
          "BH": 690.8,
          "PosTra": "WBCDR"
         },
         {
          "BH": 541.8,
          "PosTra": "WBCDR"
         },
         {
          "BH": 549,
          "PosTra": "WBCDR"
         },
         {
          "BH": 447.9,
          "PosTra": "WBCDR"
         },
         {
          "BH": 716.4,
          "PosTra": "WBCDR"
         },
         {
          "BH": 813.1,
          "PosTra": "WBCDR"
         },
         {
          "BH": 765,
          "PosTra": "WBCDR"
         },
         {
          "BH": 558.1,
          "PosTra": "WBCDR"
         },
         {
          "BH": 565.1,
          "PosTra": "WBCDR"
         },
         {
          "BH": 627.5,
          "PosTra": "WBCDR"
         },
         {
          "BH": 728.4,
          "PosTra": "WBCDR"
         },
         {
          "BH": 728.5,
          "PosTra": "WBCDR"
         },
         {
          "BH": 574.4,
          "PosTra": "WBCDR"
         },
         {
          "BH": 673.7,
          "PosTra": "WBCDR"
         },
         {
          "BH": 636.3,
          "PosTra": "WBCDR"
         },
         {
          "BH": 641.9,
          "PosTra": "WBCDR"
         },
         {
          "BH": 421.2,
          "PosTra": "WBCDR"
         },
         {
          "BH": 670.6,
          "PosTra": "WBCDR"
         },
         {
          "BH": 662.8,
          "PosTra": "WBCDR"
         },
         {
          "BH": 721.1,
          "PosTra": "WBCDR"
         },
         {
          "BH": 668.9,
          "PosTra": "WBCDR"
         },
         {
          "BH": 603.5,
          "PosTra": "WBCDR"
         },
         {
          "BH": 748.1,
          "PosTra": "WBCDR"
         },
         {
          "BH": 682.1,
          "PosTra": "WBCDR"
         },
         {
          "BH": 537.5,
          "PosTra": "WBCDR"
         },
         {
          "BH": 583.2,
          "PosTra": "WBCDR"
         },
         {
          "BH": 594.8,
          "PosTra": "WBCDR"
         },
         {
          "BH": 567.9,
          "PosTra": "WBCDR"
         },
         {
          "BH": 629.8,
          "PosTra": "WBCDR"
         },
         {
          "BH": 642.6,
          "PosTra": "WBCDR"
         },
         {
          "BH": 706.7,
          "PosTra": "WBCDR"
         },
         {
          "BH": 610.6,
          "PosTra": "WBCDR"
         },
         {
          "BH": 737.8,
          "PosTra": "WBCDR"
         },
         {
          "BH": 553.7,
          "PosTra": "WBCDR"
         },
         {
          "BH": 671.2,
          "PosTra": "WBCDR"
         },
         {
          "BH": 764.3,
          "PosTra": "WBCDR"
         },
         {
          "BH": 501.3,
          "PosTra": "WBCDR"
         },
         {
          "BH": 810.6,
          "PosTra": "WBCDR"
         },
         {
          "BH": 777.7,
          "PosTra": "WBCDR"
         },
         {
          "BH": 734.7,
          "PosTra": "WBCDR"
         },
         {
          "BH": 809.9,
          "PosTra": "WBCDR"
         },
         {
          "BH": 757.3,
          "PosTra": "WBCDR"
         },
         {
          "BH": 645.6,
          "PosTra": "WBCDR"
         },
         {
          "BH": 745.1,
          "PosTra": "WBCDR"
         },
         {
          "BH": 525.6,
          "PosTra": "WBCDR"
         },
         {
          "BH": 535,
          "PosTra": "WBCDR"
         },
         {
          "BH": 636.7,
          "PosTra": "WBCDR"
         },
         {
          "BH": 666.6,
          "PosTra": "WBCOP"
         },
         {
          "BH": 628.8,
          "PosTra": "WBCOP"
         },
         {
          "BH": 566.3,
          "PosTra": "WBCOP"
         },
         {
          "BH": 573.1,
          "PosTra": "WBCOP"
         },
         {
          "BH": 589.4,
          "PosTra": "WBCOP"
         },
         {
          "BH": 415.3,
          "PosTra": "WBCOP"
         },
         {
          "BH": 655.3,
          "PosTra": "WBCOP"
         },
         {
          "BH": 618,
          "PosTra": "WBCOP"
         },
         {
          "BH": 707.1,
          "PosTra": "WBCOP"
         },
         {
          "BH": 726.5,
          "PosTra": "WBCOP"
         },
         {
          "BH": 723.1,
          "PosTra": "WBCOP"
         },
         {
          "BH": 493.1,
          "PosTra": "WBCOP"
         },
         {
          "BH": 743.5,
          "PosTra": "WBCOP"
         },
         {
          "BH": 672.7,
          "PosTra": "WBCOP"
         },
         {
          "BH": 781.9,
          "PosTra": "WBCOP"
         },
         {
          "BH": 706.1,
          "PosTra": "WBCOP"
         },
         {
          "BH": 443,
          "PosTra": "WBCOP"
         },
         {
          "BH": 685.8,
          "PosTra": "WBCOP"
         },
         {
          "BH": 778.6,
          "PosTra": "WBCOP"
         },
         {
          "BH": 662.9,
          "PosTra": "WBCOP"
         },
         {
          "BH": 664.5,
          "PosTra": "WBCOP"
         },
         {
          "BH": 486.5,
          "PosTra": "WBCOP"
         },
         {
          "BH": 771.7,
          "PosTra": "WBCOP"
         },
         {
          "BH": 809.3,
          "PosTra": "WBCOP"
         },
         {
          "BH": 744.2,
          "PosTra": "WBCOP"
         },
         {
          "BH": 662.4,
          "PosTra": "WBCOP"
         },
         {
          "BH": 646.5,
          "PosTra": "WBCOP"
         },
         {
          "BH": 624.8,
          "PosTra": "WBCOP"
         },
         {
          "BH": 678.8,
          "PosTra": "WBCOP"
         },
         {
          "BH": 823,
          "PosTra": "WBCOP"
         },
         {
          "BH": 627,
          "PosTra": "WBCOP"
         },
         {
          "BH": 707.3,
          "PosTra": "WBCOP"
         },
         {
          "BH": 751.2,
          "PosTra": "WBCOP"
         },
         {
          "BH": 670.6,
          "PosTra": "WBCOP"
         },
         {
          "BH": 695.4,
          "PosTra": "WBCOP"
         },
         {
          "BH": 766.6,
          "PosTra": "WBCOP"
         },
         {
          "BH": 695.5,
          "PosTra": "WBCOP"
         },
         {
          "BH": 620.3,
          "PosTra": "WBCOP"
         },
         {
          "BH": 584.7,
          "PosTra": "WBCOP"
         },
         {
          "BH": 772.4,
          "PosTra": "WBCOP"
         },
         {
          "BH": 485.1,
          "PosTra": "WBCOP"
         },
         {
          "BH": 469.6,
          "PosTra": "WBCOP"
         },
         {
          "BH": 597.7,
          "PosTra": "WBCOP"
         },
         {
          "BH": 756.7,
          "PosTra": "WBCOP"
         },
         {
          "BH": 727.4,
          "PosTra": "WBCOP"
         },
         {
          "BH": 686.3,
          "PosTra": "WBCOP"
         },
         {
          "BH": 606.4,
          "PosTra": "WBCOP"
         },
         {
          "BH": 744.1,
          "PosTra": "WBCOP"
         },
         {
          "BH": 690.4,
          "PosTra": "WBCOP"
         },
         {
          "BH": 699.9,
          "PosTra": "WBCOP"
         },
         {
          "BH": 775.7,
          "PosTra": "WBCOP"
         },
         {
          "BH": 745.2,
          "PosTra": "WBCOP"
         },
         {
          "BH": 716.9,
          "PosTra": "WBCOP"
         },
         {
          "BH": 570.4,
          "PosTra": "WBCOP"
         },
         {
          "BH": 555,
          "PosTra": "WBCOP"
         },
         {
          "BH": 630.2,
          "PosTra": "WBCOP"
         },
         {
          "BH": 412,
          "PosTra": "WBCOP"
         },
         {
          "BH": 491.4,
          "PosTra": "WBCOP"
         },
         {
          "BH": 514.1,
          "PosTra": "WBCOP"
         },
         {
          "BH": 641,
          "PosTra": "WBCOP"
         },
         {
          "BH": 617.7,
          "PosTra": "WBCOP"
         },
         {
          "BH": 607.5,
          "PosTra": "WBCOP"
         },
         {
          "BH": 651.6,
          "PosTra": "WBCOP"
         },
         {
          "BH": 552.7,
          "PosTra": "WBCOP"
         },
         {
          "BH": 489.3,
          "PosTra": "WBCOP"
         },
         {
          "BH": 661.2,
          "PosTra": "WBCOP"
         },
         {
          "BH": 536.4,
          "PosTra": "WBCOP"
         },
         {
          "BH": 711.9,
          "PosTra": "WBCOP"
         },
         {
          "BH": 634.8,
          "PosTra": "WBCOP"
         },
         {
          "BH": 567.9,
          "PosTra": "WBCOP"
         },
         {
          "BH": 663.7,
          "PosTra": "WBCOP"
         },
         {
          "BH": 546.6,
          "PosTra": "WBCOP"
         },
         {
          "BH": 601.1,
          "PosTra": "WBCOP"
         },
         {
          "BH": 714.4,
          "PosTra": "WBCOP"
         },
         {
          "BH": 356.2,
          "PosTra": "WBCOP"
         },
         {
          "BH": 682.1,
          "PosTra": "WBCOP"
         },
         {
          "BH": 619.2,
          "PosTra": "WBCOP"
         },
         {
          "BH": 288.6,
          "PosTra": "WBCOP"
         },
         {
          "BH": 641.2,
          "PosTra": "WBCOP"
         }
        ]
       },
       "description": "A vertical box plot showing median, min, and max block hours.",
       "encoding": {
        "color": {
         "field": "PosTra",
         "legend": null,
         "type": "nominal"
        },
        "size": {
         "value": 90
        },
        "x": {
         "field": "PosTra",
         "type": "nominal"
        },
        "y": {
         "field": "BH",
         "scale": {
          "zero": false
         },
         "type": "quantitative"
        }
       },
       "height": 400,
       "mark": {
        "extent": "min-max",
        "type": "boxplot"
       },
       "width": 800
      },
      "image/png": "[encoded data removed]"
     },
     "metadata": {},
     "output_type": "display_data"
    }
   ],
   "source": [
    ":vega-lite\n",
    "('PosTra' 'BH')vega.boxplot data.attributes[⊂'names']vega.json_data↓⍉↑data.data"
   ]
  }
 ],
 "metadata": {
  "kernelspec": {
   "display_name": "Dyalog APL",
   "language": "apl",
   "name": "dyalog-kernel"
  },
  "language_info": {
   "file_extension": ".apl",
   "mimetype": "text/apl",
   "name": "APL"
  }
 },
 "nbformat": 4,
 "nbformat_minor": 5
}
