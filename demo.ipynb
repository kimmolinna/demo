{
 "cells": [
  {
   "cell_type": "code",
   "execution_count": 1,
   "id": "e439d721-5f41-44c4-b97a-7607de79ae39",
   "metadata": {},
   "outputs": [
    {
     "data": {
      "text/html": [
       "<span style=\"white-space:pre; font-family: monospace\">┌──────────────┬─┐\n",
       "│DYALOG_NETCORE│1│\n",
       "└──────────────┴─┘\n",
       "</span>"
      ]
     },
     "execution_count": 1,
     "metadata": {},
     "output_type": "execute_result"
    }
   ],
   "source": [
    "]config DYALOG_NETCORE"
   ]
  },
  {
   "cell_type": "code",
   "execution_count": 2,
   "id": "a03d84e5-4a90-4862-8674-33db16fc13fb",
   "metadata": {},
   "outputs": [
    {
     "data": {
      "text/html": [
       "<span style=\"white-space:pre; font-family: monospace\">Linked: #.vega ←→ C:\\Users\\kimmo\\OneDrive\\dyalog\\vega\n",
       "</span>"
      ]
     },
     "execution_count": 2,
     "metadata": {},
     "output_type": "execute_result"
    }
   ],
   "source": [
    "]LINK.create vega C:\\Users\\kimmo\\OneDrive\\dyalog\\vega\n",
    "2⎕fix 'file://c:/Users/kimmo/rsconnect/rserve.dyalog'\n",
    "r←⎕new RS.Rserve"
   ]
  },
  {
   "cell_type": "code",
   "execution_count": 3,
   "id": "640d9586-8ff2-4db2-96d2-3d14768e1756",
   "metadata": {},
   "outputs": [],
   "source": [
    "0 r.eval 'library(data.table)'"
   ]
  },
  {
   "cell_type": "code",
   "execution_count": 4,
   "id": "b3738eb2-ed0c-4031-9a17-29c8a36cf058",
   "metadata": {},
   "outputs": [
    {
     "data": {
      "text/html": [
       "<span style=\"white-space:pre; font-family: monospace\">┌───┬──────────┬─────┬────────┬─────────┬─────┬────────┬───────┬────┐\n",
       "│DBI│data.table│stats│graphics│grDevices│utils│datasets│methods│base│\n",
       "└───┴──────────┴─────┴────────┴─────────┴─────┴────────┴───────┴────┘\n",
       "</span>"
      ]
     },
     "execution_count": 4,
     "metadata": {},
     "output_type": "execute_result"
    }
   ],
   "source": [
    "r.eval 'library(DBI)'"
   ]
  },
  {
   "cell_type": "code",
   "execution_count": 5,
   "id": "587efee3-a1a2-41ee-b14d-4a6ef0ed0bab",
   "metadata": {},
   "outputs": [],
   "source": [
    "0 r.eval 'con = dbConnect(duckdb::duckdb(), dbdir=\":memory:\", read_only=FALSE)'"
   ]
  },
  {
   "cell_type": "code",
   "execution_count": 6,
   "id": "7c445d6d-c1df-4e8d-8853-c22b5990503a",
   "metadata": {},
   "outputs": [],
   "source": [
    "0 r.eval 'cobasket<-fread(\"c:/users/kimmo/Onedrive/salary/cobasket.csv\")' \n",
    "0 r.eval 'positions<-fread(\"c:/users/kimmo/Onedrive/salary/positions.csv\")'\n",
    "0 r.eval 'coeff<-fread(\"c:/users/kimmo/Onedrive/salary/coefficients.csv\")'\n",
    "0 r.eval 'cobasket<-cobasket[positions,on=.(Pos=Pos),nomatch=0]'\n",
    "0 r.eval 'cobasket<-cobasket[coeff,on=.(Pos=Pos),nomatch=0]'\n",
    "0 r.eval 'setorder(cobasket,PosTra)'\n",
    "0 r.eval 'dbWriteTable(con, \"cobasket\", cobasket)'"
   ]
  },
  {
   "cell_type": "code",
   "execution_count": 28,
   "id": "216636c6-02af-4ad1-b521-6f7a63f36a25",
   "metadata": {},
   "outputs": [],
   "source": [
    "data←r.eval 'cobasket[Period<201810,.(BH=sum(Block),Pro=sum(Prorated),.N),by=.(Pos,Id)][positions,on=.(Pos=Pos),nomatch=0][(N==12&Pro<60),.(PosTra,BH)]'"
   ]
  },
  {
   "cell_type": "code",
   "execution_count": 29,
   "id": "c174ee20-5957-40fe-9e48-58939fa1733d",
   "metadata": {},
   "outputs": [
    {
     "data": {
      "application/vnd.vegalite.v4+json": {
       "$schema": "https://vega.github.io/schema/vega-lite/v5.json",
       "data": {
        "values": [
         {
          "BH": 531.4,
          "PosTra": "NBCDR"
         },
         {
          "BH": 654.3,
          "PosTra": "NBCDR"
         },
         {
          "BH": 746.2,
          "PosTra": "NBCDR"
         },
         {
          "BH": 666,
          "PosTra": "NBCDR"
         },
         {
          "BH": 729.4,
          "PosTra": "NBCDR"
         },
         {
          "BH": 688.3,
          "PosTra": "NBCDR"
         },
         {
          "BH": 655.7,
          "PosTra": "NBCDR"
         },
         {
          "BH": 342.7,
          "PosTra": "NBCDR"
         },
         {
          "BH": 474,
          "PosTra": "NBCDR"
         },
         {
          "BH": 752.1,
          "PosTra": "NBCDR"
         },
         {
          "BH": 643,
          "PosTra": "NBCDR"
         },
         {
          "BH": 790.2,
          "PosTra": "NBCDR"
         },
         {
          "BH": 328.2,
          "PosTra": "NBCDR"
         },
         {
          "BH": 719.2,
          "PosTra": "NBCDR"
         },
         {
          "BH": 650.2,
          "PosTra": "NBCDR"
         },
         {
          "BH": 704.6,
          "PosTra": "NBCDR"
         },
         {
          "BH": 678.3,
          "PosTra": "NBCDR"
         },
         {
          "BH": 698.6,
          "PosTra": "NBCDR"
         },
         {
          "BH": 703.3,
          "PosTra": "NBCDR"
         },
         {
          "BH": 651,
          "PosTra": "NBCDR"
         },
         {
          "BH": 417.9,
          "PosTra": "NBCDR"
         },
         {
          "BH": 832,
          "PosTra": "NBCDR"
         },
         {
          "BH": 644.7,
          "PosTra": "NBCDR"
         },
         {
          "BH": 398.2,
          "PosTra": "NBCDR"
         },
         {
          "BH": 657.4,
          "PosTra": "NBCDR"
         },
         {
          "BH": 391.2,
          "PosTra": "NBCDR"
         },
         {
          "BH": 368.2,
          "PosTra": "NBCDR"
         },
         {
          "BH": 696.3,
          "PosTra": "NBCDR"
         },
         {
          "BH": 667.9,
          "PosTra": "NBCDR"
         },
         {
          "BH": 650.3,
          "PosTra": "NBCDR"
         },
         {
          "BH": 733.4,
          "PosTra": "NBCDR"
         },
         {
          "BH": 639,
          "PosTra": "NBCDR"
         },
         {
          "BH": 486.2,
          "PosTra": "NBCDR"
         },
         {
          "BH": 747,
          "PosTra": "NBCDR"
         },
         {
          "BH": 694.8,
          "PosTra": "NBCDR"
         },
         {
          "BH": 709.2,
          "PosTra": "NBCDR"
         },
         {
          "BH": 708.2,
          "PosTra": "NBCDR"
         },
         {
          "BH": 371.2,
          "PosTra": "NBCDR"
         },
         {
          "BH": 484.7,
          "PosTra": "NBCDR"
         },
         {
          "BH": 649.8,
          "PosTra": "NBCDR"
         },
         {
          "BH": 667.4,
          "PosTra": "NBCDR"
         },
         {
          "BH": 681.8,
          "PosTra": "NBCDR"
         },
         {
          "BH": 703.1,
          "PosTra": "NBCDR"
         },
         {
          "BH": 692.3,
          "PosTra": "NBCDR"
         },
         {
          "BH": 719,
          "PosTra": "NBCDR"
         },
         {
          "BH": 808,
          "PosTra": "NBCDR"
         },
         {
          "BH": 719.3,
          "PosTra": "NBCDR"
         },
         {
          "BH": 679.9,
          "PosTra": "NBCDR"
         },
         {
          "BH": 582.1,
          "PosTra": "NBCDR"
         },
         {
          "BH": 619.2,
          "PosTra": "NBCDR"
         },
         {
          "BH": 314.8,
          "PosTra": "NBCDR"
         },
         {
          "BH": 648.6,
          "PosTra": "NBCDR"
         },
         {
          "BH": 668.2,
          "PosTra": "NBCDR"
         },
         {
          "BH": 734,
          "PosTra": "NBCDR"
         },
         {
          "BH": 722.2,
          "PosTra": "NBCDR"
         },
         {
          "BH": 740.3,
          "PosTra": "NBCDR"
         },
         {
          "BH": 353.4,
          "PosTra": "NBCDR"
         },
         {
          "BH": 714.2,
          "PosTra": "NBCDR"
         },
         {
          "BH": 721.2,
          "PosTra": "NBCDR"
         },
         {
          "BH": 715.5,
          "PosTra": "NBCDR"
         },
         {
          "BH": 645.9,
          "PosTra": "NBCDR"
         },
         {
          "BH": 751.4,
          "PosTra": "NBCDR"
         },
         {
          "BH": 587.1,
          "PosTra": "NBCDR"
         },
         {
          "BH": 685.1,
          "PosTra": "NBCDR"
         },
         {
          "BH": 643.4,
          "PosTra": "NBCDR"
         },
         {
          "BH": 351.7,
          "PosTra": "NBCDR"
         },
         {
          "BH": 745,
          "PosTra": "NBCDR"
         },
         {
          "BH": 682.2,
          "PosTra": "NBCDR"
         },
         {
          "BH": 579.2,
          "PosTra": "NBCDR"
         },
         {
          "BH": 707.4,
          "PosTra": "NBCDR"
         },
         {
          "BH": 658.1,
          "PosTra": "NBCDR"
         },
         {
          "BH": 647.1,
          "PosTra": "NBCDR"
         },
         {
          "BH": 540.8,
          "PosTra": "NBCDR"
         },
         {
          "BH": 756.5,
          "PosTra": "NBCDR"
         },
         {
          "BH": 597.7,
          "PosTra": "NBCOP"
         },
         {
          "BH": 671,
          "PosTra": "NBCOP"
         },
         {
          "BH": 609,
          "PosTra": "NBCOP"
         },
         {
          "BH": 586.7,
          "PosTra": "NBCOP"
         },
         {
          "BH": 476,
          "PosTra": "NBCOP"
         },
         {
          "BH": 632,
          "PosTra": "NBCOP"
         },
         {
          "BH": 635.4,
          "PosTra": "NBCOP"
         },
         {
          "BH": 633.3,
          "PosTra": "NBCOP"
         },
         {
          "BH": 554.6,
          "PosTra": "NBCOP"
         },
         {
          "BH": 643,
          "PosTra": "NBCOP"
         },
         {
          "BH": 683.5,
          "PosTra": "NBCOP"
         },
         {
          "BH": 622.7,
          "PosTra": "NBCOP"
         },
         {
          "BH": 679.6,
          "PosTra": "NBCOP"
         },
         {
          "BH": 676.8,
          "PosTra": "NBCOP"
         },
         {
          "BH": 652,
          "PosTra": "NBCOP"
         },
         {
          "BH": 679.7,
          "PosTra": "NBCOP"
         },
         {
          "BH": 617.1,
          "PosTra": "NBCOP"
         },
         {
          "BH": 586.9,
          "PosTra": "NBCOP"
         },
         {
          "BH": 618.5,
          "PosTra": "NBCOP"
         },
         {
          "BH": 587.8,
          "PosTra": "NBCOP"
         },
         {
          "BH": 643.5,
          "PosTra": "NBCOP"
         },
         {
          "BH": 687.6,
          "PosTra": "NBCOP"
         },
         {
          "BH": 627.3,
          "PosTra": "NBCOP"
         },
         {
          "BH": 611.8,
          "PosTra": "NBCOP"
         },
         {
          "BH": 655.5,
          "PosTra": "NBCOP"
         },
         {
          "BH": 632.9,
          "PosTra": "NBCOP"
         },
         {
          "BH": 775.5,
          "PosTra": "NBCOP"
         },
         {
          "BH": 606.8,
          "PosTra": "NBCOP"
         },
         {
          "BH": 669.3,
          "PosTra": "NBCOP"
         },
         {
          "BH": 641.9,
          "PosTra": "NBCOP"
         },
         {
          "BH": 635.7,
          "PosTra": "NBCOP"
         },
         {
          "BH": 630.6,
          "PosTra": "NBCOP"
         },
         {
          "BH": 670.5,
          "PosTra": "NBCOP"
         },
         {
          "BH": 454,
          "PosTra": "NBCOP"
         },
         {
          "BH": 617.7,
          "PosTra": "NBCOP"
         },
         {
          "BH": 625,
          "PosTra": "NBCOP"
         },
         {
          "BH": 629,
          "PosTra": "NBCOP"
         },
         {
          "BH": 673.2,
          "PosTra": "NBCOP"
         },
         {
          "BH": 603.5,
          "PosTra": "NBCOP"
         },
         {
          "BH": 624.9,
          "PosTra": "NBCOP"
         },
         {
          "BH": 693.9,
          "PosTra": "NBCOP"
         },
         {
          "BH": 665.4,
          "PosTra": "NBCOP"
         },
         {
          "BH": 700.6,
          "PosTra": "NBCOP"
         },
         {
          "BH": 643.3,
          "PosTra": "NBCOP"
         },
         {
          "BH": 626.4,
          "PosTra": "NBCOP"
         },
         {
          "BH": 740.3,
          "PosTra": "NBCOP"
         },
         {
          "BH": 602.4,
          "PosTra": "NBCOP"
         },
         {
          "BH": 654.9,
          "PosTra": "NBCOP"
         },
         {
          "BH": 693,
          "PosTra": "NBCOP"
         },
         {
          "BH": 732,
          "PosTra": "NBCOP"
         },
         {
          "BH": 722.5,
          "PosTra": "NBCOP"
         },
         {
          "BH": 662.6,
          "PosTra": "NBCOP"
         },
         {
          "BH": 636.9,
          "PosTra": "NBCOP"
         },
         {
          "BH": 577.2,
          "PosTra": "NBCOP"
         },
         {
          "BH": 662.3,
          "PosTra": "NBCOP"
         },
         {
          "BH": 639.1,
          "PosTra": "NBCOP"
         },
         {
          "BH": 634.2,
          "PosTra": "NBCOP"
         },
         {
          "BH": 683.9,
          "PosTra": "NBCOP"
         },
         {
          "BH": 638.1,
          "PosTra": "NBCOP"
         },
         {
          "BH": 655,
          "PosTra": "NBCOP"
         },
         {
          "BH": 697.3,
          "PosTra": "NBCOP"
         },
         {
          "BH": 645,
          "PosTra": "NBCOP"
         },
         {
          "BH": 617.7,
          "PosTra": "NBCOP"
         },
         {
          "BH": 703.3,
          "PosTra": "NBCOP"
         },
         {
          "BH": 672.3,
          "PosTra": "NBCOP"
         },
         {
          "BH": 764,
          "PosTra": "NBCOP"
         },
         {
          "BH": 697.1,
          "PosTra": "NBCOP"
         },
         {
          "BH": 761.9,
          "PosTra": "NBCOP"
         },
         {
          "BH": 737.6,
          "PosTra": "NBCOP"
         },
         {
          "BH": 578,
          "PosTra": "NBCOP"
         },
         {
          "BH": 680.1,
          "PosTra": "NBCOP"
         },
         {
          "BH": 665.2,
          "PosTra": "NBCOP"
         },
         {
          "BH": 713,
          "PosTra": "NBCOP"
         },
         {
          "BH": 606.9,
          "PosTra": "NBCOP"
         },
         {
          "BH": 564.2,
          "PosTra": "NBCOP"
         },
         {
          "BH": 677,
          "PosTra": "NBCOP"
         },
         {
          "BH": 671.5,
          "PosTra": "NBCOP"
         },
         {
          "BH": 629.5,
          "PosTra": "MFFCDR"
         },
         {
          "BH": 745.5,
          "PosTra": "MFFCDR"
         },
         {
          "BH": 797,
          "PosTra": "MFFCDR"
         },
         {
          "BH": 856.6,
          "PosTra": "MFFCDR"
         },
         {
          "BH": 668.8,
          "PosTra": "MFFCDR"
         },
         {
          "BH": 758.2,
          "PosTra": "MFFCDR"
         },
         {
          "BH": 686.6,
          "PosTra": "MFFCDR"
         },
         {
          "BH": 750.1,
          "PosTra": "MFFCDR"
         },
         {
          "BH": 563.7,
          "PosTra": "MFFCDR"
         },
         {
          "BH": 796.9,
          "PosTra": "MFFCDR"
         },
         {
          "BH": 600.3,
          "PosTra": "MFFCDR"
         },
         {
          "BH": 756.4,
          "PosTra": "MFFCDR"
         },
         {
          "BH": 469.6,
          "PosTra": "MFFCDR"
         },
         {
          "BH": 589.3,
          "PosTra": "MFFCDR"
         },
         {
          "BH": 603.5,
          "PosTra": "MFFCDR"
         },
         {
          "BH": 583.5,
          "PosTra": "MFFCDR"
         },
         {
          "BH": 545.2,
          "PosTra": "MFFCDR"
         },
         {
          "BH": 612.3,
          "PosTra": "MFFCDR"
         },
         {
          "BH": 646.4,
          "PosTra": "MFFCDR"
         },
         {
          "BH": 630.9,
          "PosTra": "MFFCDR"
         },
         {
          "BH": 867.1,
          "PosTra": "MFFCDR"
         },
         {
          "BH": 713,
          "PosTra": "MFFCDR"
         },
         {
          "BH": 835.7,
          "PosTra": "MFFCDR"
         },
         {
          "BH": 806.9,
          "PosTra": "MFFCDR"
         },
         {
          "BH": 719.6,
          "PosTra": "MFFCDR"
         },
         {
          "BH": 479.2,
          "PosTra": "MFFCDR"
         },
         {
          "BH": 758,
          "PosTra": "MFFCDR"
         },
         {
          "BH": 792.5,
          "PosTra": "MFFCDR"
         },
         {
          "BH": 720,
          "PosTra": "MFFCDR"
         },
         {
          "BH": 776.5,
          "PosTra": "MFFCDR"
         },
         {
          "BH": 346.8,
          "PosTra": "MFFCDR"
         },
         {
          "BH": 611.9,
          "PosTra": "MFFCOP"
         },
         {
          "BH": 809.8,
          "PosTra": "MFFCOP"
         },
         {
          "BH": 699.8,
          "PosTra": "WBCDR"
         },
         {
          "BH": 765.7,
          "PosTra": "WBCDR"
         },
         {
          "BH": 666.4,
          "PosTra": "WBCDR"
         },
         {
          "BH": 768.2,
          "PosTra": "WBCDR"
         },
         {
          "BH": 560.4,
          "PosTra": "WBCDR"
         },
         {
          "BH": 648.1,
          "PosTra": "WBCDR"
         },
         {
          "BH": 711.3,
          "PosTra": "WBCDR"
         },
         {
          "BH": 692.1,
          "PosTra": "WBCDR"
         },
         {
          "BH": 632.6,
          "PosTra": "WBCDR"
         },
         {
          "BH": 467.6,
          "PosTra": "WBCDR"
         },
         {
          "BH": 775.8,
          "PosTra": "WBCDR"
         },
         {
          "BH": 558,
          "PosTra": "WBCDR"
         },
         {
          "BH": 754.2,
          "PosTra": "WBCDR"
         },
         {
          "BH": 773.9,
          "PosTra": "WBCDR"
         },
         {
          "BH": 608.2,
          "PosTra": "WBCDR"
         },
         {
          "BH": 788.4,
          "PosTra": "WBCDR"
         },
         {
          "BH": 739.4,
          "PosTra": "WBCDR"
         },
         {
          "BH": 726.7,
          "PosTra": "WBCDR"
         },
         {
          "BH": 726.6,
          "PosTra": "WBCDR"
         },
         {
          "BH": 669,
          "PosTra": "WBCDR"
         },
         {
          "BH": 534.2,
          "PosTra": "WBCDR"
         },
         {
          "BH": 663.2,
          "PosTra": "WBCDR"
         },
         {
          "BH": 896.7,
          "PosTra": "WBCDR"
         },
         {
          "BH": 717.4,
          "PosTra": "WBCDR"
         },
         {
          "BH": 806.5,
          "PosTra": "WBCDR"
         },
         {
          "BH": 705.2,
          "PosTra": "WBCDR"
         },
         {
          "BH": 685.3,
          "PosTra": "WBCDR"
         },
         {
          "BH": 702.9,
          "PosTra": "WBCDR"
         },
         {
          "BH": 710.7,
          "PosTra": "WBCDR"
         },
         {
          "BH": 708.4,
          "PosTra": "WBCDR"
         },
         {
          "BH": 742.4,
          "PosTra": "WBCDR"
         },
         {
          "BH": 664.2,
          "PosTra": "WBCDR"
         },
         {
          "BH": 818.7,
          "PosTra": "WBCDR"
         },
         {
          "BH": 652.3,
          "PosTra": "WBCDR"
         },
         {
          "BH": 771.8,
          "PosTra": "WBCDR"
         },
         {
          "BH": 722,
          "PosTra": "WBCDR"
         },
         {
          "BH": 768,
          "PosTra": "WBCDR"
         },
         {
          "BH": 656.6,
          "PosTra": "WBCDR"
         },
         {
          "BH": 546.4,
          "PosTra": "WBCDR"
         },
         {
          "BH": 768.7,
          "PosTra": "WBCDR"
         },
         {
          "BH": 637.9,
          "PosTra": "WBCDR"
         },
         {
          "BH": 707.2,
          "PosTra": "WBCDR"
         },
         {
          "BH": 808.2,
          "PosTra": "WBCDR"
         },
         {
          "BH": 679.1,
          "PosTra": "WBCDR"
         },
         {
          "BH": 690.8,
          "PosTra": "WBCDR"
         },
         {
          "BH": 541.8,
          "PosTra": "WBCDR"
         },
         {
          "BH": 549,
          "PosTra": "WBCDR"
         },
         {
          "BH": 716.4,
          "PosTra": "WBCDR"
         },
         {
          "BH": 813.1,
          "PosTra": "WBCDR"
         },
         {
          "BH": 765,
          "PosTra": "WBCDR"
         },
         {
          "BH": 558.1,
          "PosTra": "WBCDR"
         },
         {
          "BH": 565.1,
          "PosTra": "WBCDR"
         },
         {
          "BH": 728.4,
          "PosTra": "WBCDR"
         },
         {
          "BH": 728.5,
          "PosTra": "WBCDR"
         },
         {
          "BH": 574.4,
          "PosTra": "WBCDR"
         },
         {
          "BH": 673.7,
          "PosTra": "WBCDR"
         },
         {
          "BH": 636.3,
          "PosTra": "WBCDR"
         },
         {
          "BH": 641.9,
          "PosTra": "WBCDR"
         },
         {
          "BH": 421.2,
          "PosTra": "WBCDR"
         },
         {
          "BH": 670.6,
          "PosTra": "WBCDR"
         },
         {
          "BH": 662.8,
          "PosTra": "WBCDR"
         },
         {
          "BH": 721.1,
          "PosTra": "WBCDR"
         },
         {
          "BH": 748.1,
          "PosTra": "WBCDR"
         },
         {
          "BH": 682.1,
          "PosTra": "WBCDR"
         },
         {
          "BH": 537.5,
          "PosTra": "WBCDR"
         },
         {
          "BH": 583.2,
          "PosTra": "WBCDR"
         },
         {
          "BH": 594.8,
          "PosTra": "WBCDR"
         },
         {
          "BH": 642.6,
          "PosTra": "WBCDR"
         },
         {
          "BH": 706.7,
          "PosTra": "WBCDR"
         },
         {
          "BH": 610.6,
          "PosTra": "WBCDR"
         },
         {
          "BH": 737.8,
          "PosTra": "WBCDR"
         },
         {
          "BH": 671.2,
          "PosTra": "WBCDR"
         },
         {
          "BH": 764.3,
          "PosTra": "WBCDR"
         },
         {
          "BH": 501.3,
          "PosTra": "WBCDR"
         },
         {
          "BH": 810.6,
          "PosTra": "WBCDR"
         },
         {
          "BH": 777.7,
          "PosTra": "WBCDR"
         },
         {
          "BH": 734.7,
          "PosTra": "WBCDR"
         },
         {
          "BH": 809.9,
          "PosTra": "WBCDR"
         },
         {
          "BH": 757.3,
          "PosTra": "WBCDR"
         },
         {
          "BH": 645.6,
          "PosTra": "WBCDR"
         },
         {
          "BH": 745.1,
          "PosTra": "WBCDR"
         },
         {
          "BH": 666.6,
          "PosTra": "WBCOP"
         },
         {
          "BH": 628.8,
          "PosTra": "WBCOP"
         },
         {
          "BH": 573.1,
          "PosTra": "WBCOP"
         },
         {
          "BH": 415.3,
          "PosTra": "WBCOP"
         },
         {
          "BH": 655.3,
          "PosTra": "WBCOP"
         },
         {
          "BH": 618,
          "PosTra": "WBCOP"
         },
         {
          "BH": 707.1,
          "PosTra": "WBCOP"
         },
         {
          "BH": 723.1,
          "PosTra": "WBCOP"
         },
         {
          "BH": 743.5,
          "PosTra": "WBCOP"
         },
         {
          "BH": 672.7,
          "PosTra": "WBCOP"
         },
         {
          "BH": 781.9,
          "PosTra": "WBCOP"
         },
         {
          "BH": 706.1,
          "PosTra": "WBCOP"
         },
         {
          "BH": 443,
          "PosTra": "WBCOP"
         },
         {
          "BH": 685.8,
          "PosTra": "WBCOP"
         },
         {
          "BH": 630.6,
          "PosTra": "WBCOP"
         },
         {
          "BH": 778.6,
          "PosTra": "WBCOP"
         },
         {
          "BH": 662.9,
          "PosTra": "WBCOP"
         },
         {
          "BH": 664.5,
          "PosTra": "WBCOP"
         },
         {
          "BH": 771.7,
          "PosTra": "WBCOP"
         },
         {
          "BH": 809.3,
          "PosTra": "WBCOP"
         },
         {
          "BH": 744.2,
          "PosTra": "WBCOP"
         },
         {
          "BH": 646.5,
          "PosTra": "WBCOP"
         },
         {
          "BH": 678.8,
          "PosTra": "WBCOP"
         },
         {
          "BH": 823,
          "PosTra": "WBCOP"
         },
         {
          "BH": 627,
          "PosTra": "WBCOP"
         },
         {
          "BH": 707.3,
          "PosTra": "WBCOP"
         },
         {
          "BH": 751.2,
          "PosTra": "WBCOP"
         },
         {
          "BH": 670.6,
          "PosTra": "WBCOP"
         },
         {
          "BH": 695.4,
          "PosTra": "WBCOP"
         },
         {
          "BH": 766.6,
          "PosTra": "WBCOP"
         },
         {
          "BH": 695.5,
          "PosTra": "WBCOP"
         },
         {
          "BH": 620.3,
          "PosTra": "WBCOP"
         },
         {
          "BH": 772.4,
          "PosTra": "WBCOP"
         },
         {
          "BH": 485.1,
          "PosTra": "WBCOP"
         },
         {
          "BH": 756.7,
          "PosTra": "WBCOP"
         },
         {
          "BH": 727.4,
          "PosTra": "WBCOP"
         },
         {
          "BH": 686.3,
          "PosTra": "WBCOP"
         },
         {
          "BH": 606.4,
          "PosTra": "WBCOP"
         },
         {
          "BH": 744.1,
          "PosTra": "WBCOP"
         },
         {
          "BH": 690.4,
          "PosTra": "WBCOP"
         },
         {
          "BH": 699.9,
          "PosTra": "WBCOP"
         },
         {
          "BH": 775.7,
          "PosTra": "WBCOP"
         },
         {
          "BH": 745.2,
          "PosTra": "WBCOP"
         },
         {
          "BH": 716.9,
          "PosTra": "WBCOP"
         },
         {
          "BH": 570.4,
          "PosTra": "WBCOP"
         },
         {
          "BH": 630.2,
          "PosTra": "WBCOP"
         },
         {
          "BH": 412,
          "PosTra": "WBCOP"
         },
         {
          "BH": 491.4,
          "PosTra": "WBCOP"
         },
         {
          "BH": 641,
          "PosTra": "WBCOP"
         },
         {
          "BH": 617.7,
          "PosTra": "WBCOP"
         },
         {
          "BH": 607.5,
          "PosTra": "WBCOP"
         },
         {
          "BH": 651.6,
          "PosTra": "WBCOP"
         },
         {
          "BH": 552.7,
          "PosTra": "WBCOP"
         },
         {
          "BH": 661.2,
          "PosTra": "WBCOP"
         },
         {
          "BH": 711.9,
          "PosTra": "WBCOP"
         },
         {
          "BH": 634.8,
          "PosTra": "WBCOP"
         },
         {
          "BH": 567.9,
          "PosTra": "WBCOP"
         },
         {
          "BH": 663.7,
          "PosTra": "WBCOP"
         },
         {
          "BH": 601.1,
          "PosTra": "WBCOP"
         },
         {
          "BH": 714.4,
          "PosTra": "WBCOP"
         },
         {
          "BH": 440.2,
          "PosTra": "WBCOP"
         },
         {
          "BH": 682.1,
          "PosTra": "WBCOP"
         },
         {
          "BH": 619.2,
          "PosTra": "WBCOP"
         },
         {
          "BH": 288.6,
          "PosTra": "WBCOP"
         },
         {
          "BH": 641.2,
          "PosTra": "WBCOP"
         }
        ]
       },
       "description": "A vertical box plot showing median, min, and max block hours.",
       "encoding": {
        "color": {
         "field": "PosTra",
         "legend": null,
         "type": "nominal"
        },
        "size": {
         "value": 90
        },
        "x": {
         "field": "PosTra",
         "type": "nominal"
        },
        "y": {
         "field": "BH",
         "scale": {
          "zero": false
         },
         "type": "quantitative"
        }
       },
       "height": 400,
       "mark": {
        "extent": "min-max",
        "type": "boxplot"
       },
       "width": 800
      },
      "image/png": "[encoded data removed]"
     },
     "metadata": {},
     "output_type": "display_data"
    }
   ],
   "source": [
    ":vega-lite\n",
    "('PosTra' 'BH')vega.boxplot data.attributes[⊂'names']vega.json_data↓⍉↑data.data"
   ]
  },
  {
   "cell_type": "code",
   "execution_count": 30,
   "id": "429d424d-8d36-4b9e-b1f7-a150860dec14",
   "metadata": {},
   "outputs": [],
   "source": [
    "data←r.eval 'cobasket[Period<201810,.(BH=sum(Block),Pro=sum(Prorated),.N),by=.(Pos,Id)][positions,on=.(Pos=Pos),nomatch=0][(N==12),.(PosTra,BH)]'"
   ]
  },
  {
   "cell_type": "code",
   "execution_count": 31,
   "id": "b1682597-ca1e-4744-ae05-6f5ca571f1f9",
   "metadata": {},
   "outputs": [
    {
     "data": {
      "application/vnd.vegalite.v4+json": {
       "$schema": "https://vega.github.io/schema/vega-lite/v5.json",
       "data": {
        "values": [
         {
          "BH": 531.4,
          "PosTra": "NBCDR"
         },
         {
          "BH": 333.6,
          "PosTra": "NBCDR"
         },
         {
          "BH": 654.3,
          "PosTra": "NBCDR"
         },
         {
          "BH": 319.1,
          "PosTra": "NBCDR"
         },
         {
          "BH": 746.2,
          "PosTra": "NBCDR"
         },
         {
          "BH": 666,
          "PosTra": "NBCDR"
         },
         {
          "BH": 729.4,
          "PosTra": "NBCDR"
         },
         {
          "BH": 562.5,
          "PosTra": "NBCDR"
         },
         {
          "BH": 582.8,
          "PosTra": "NBCDR"
         },
         {
          "BH": 688.3,
          "PosTra": "NBCDR"
         },
         {
          "BH": 655.7,
          "PosTra": "NBCDR"
         },
         {
          "BH": 342.7,
          "PosTra": "NBCDR"
         },
         {
          "BH": 440.7,
          "PosTra": "NBCDR"
         },
         {
          "BH": 474,
          "PosTra": "NBCDR"
         },
         {
          "BH": 752.1,
          "PosTra": "NBCDR"
         },
         {
          "BH": 439.2,
          "PosTra": "NBCDR"
         },
         {
          "BH": 643,
          "PosTra": "NBCDR"
         },
         {
          "BH": 790.2,
          "PosTra": "NBCDR"
         },
         {
          "BH": 328.2,
          "PosTra": "NBCDR"
         },
         {
          "BH": 543.1,
          "PosTra": "NBCDR"
         },
         {
          "BH": 719.2,
          "PosTra": "NBCDR"
         },
         {
          "BH": 596,
          "PosTra": "NBCDR"
         },
         {
          "BH": 650.2,
          "PosTra": "NBCDR"
         },
         {
          "BH": 506.8,
          "PosTra": "NBCDR"
         },
         {
          "BH": 704.6,
          "PosTra": "NBCDR"
         },
         {
          "BH": 694,
          "PosTra": "NBCDR"
         },
         {
          "BH": 678.3,
          "PosTra": "NBCDR"
         },
         {
          "BH": 436.7,
          "PosTra": "NBCDR"
         },
         {
          "BH": 630.4,
          "PosTra": "NBCDR"
         },
         {
          "BH": 698.6,
          "PosTra": "NBCDR"
         },
         {
          "BH": 703.3,
          "PosTra": "NBCDR"
         },
         {
          "BH": 511.6,
          "PosTra": "NBCDR"
         },
         {
          "BH": 651,
          "PosTra": "NBCDR"
         },
         {
          "BH": 417.9,
          "PosTra": "NBCDR"
         },
         {
          "BH": 832,
          "PosTra": "NBCDR"
         },
         {
          "BH": 597.3,
          "PosTra": "NBCDR"
         },
         {
          "BH": 644.7,
          "PosTra": "NBCDR"
         },
         {
          "BH": 398.2,
          "PosTra": "NBCDR"
         },
         {
          "BH": 411.2,
          "PosTra": "NBCDR"
         },
         {
          "BH": 502,
          "PosTra": "NBCDR"
         },
         {
          "BH": 515.6,
          "PosTra": "NBCDR"
         },
         {
          "BH": 657.4,
          "PosTra": "NBCDR"
         },
         {
          "BH": 198.4,
          "PosTra": "NBCDR"
         },
         {
          "BH": 391.2,
          "PosTra": "NBCDR"
         },
         {
          "BH": 599.2,
          "PosTra": "NBCDR"
         },
         {
          "BH": 368.2,
          "PosTra": "NBCDR"
         },
         {
          "BH": 757.5,
          "PosTra": "NBCDR"
         },
         {
          "BH": 652.6,
          "PosTra": "NBCDR"
         },
         {
          "BH": 544.8,
          "PosTra": "NBCDR"
         },
         {
          "BH": 696.3,
          "PosTra": "NBCDR"
         },
         {
          "BH": 667.9,
          "PosTra": "NBCDR"
         },
         {
          "BH": 646.7,
          "PosTra": "NBCDR"
         },
         {
          "BH": 650.3,
          "PosTra": "NBCDR"
         },
         {
          "BH": 565.5,
          "PosTra": "NBCDR"
         },
         {
          "BH": 646.7,
          "PosTra": "NBCDR"
         },
         {
          "BH": 699.6,
          "PosTra": "NBCDR"
         },
         {
          "BH": 733.4,
          "PosTra": "NBCDR"
         },
         {
          "BH": 302.7,
          "PosTra": "NBCDR"
         },
         {
          "BH": 466,
          "PosTra": "NBCDR"
         },
         {
          "BH": 621.7,
          "PosTra": "NBCDR"
         },
         {
          "BH": 639,
          "PosTra": "NBCDR"
         },
         {
          "BH": 486.2,
          "PosTra": "NBCDR"
         },
         {
          "BH": 747,
          "PosTra": "NBCDR"
         },
         {
          "BH": 694.8,
          "PosTra": "NBCDR"
         },
         {
          "BH": 709.2,
          "PosTra": "NBCDR"
         },
         {
          "BH": 708.2,
          "PosTra": "NBCDR"
         },
         {
          "BH": 371.2,
          "PosTra": "NBCDR"
         },
         {
          "BH": 675.4,
          "PosTra": "NBCDR"
         },
         {
          "BH": 598,
          "PosTra": "NBCDR"
         },
         {
          "BH": 705.1,
          "PosTra": "NBCDR"
         },
         {
          "BH": 484.7,
          "PosTra": "NBCDR"
         },
         {
          "BH": 480.8,
          "PosTra": "NBCDR"
         },
         {
          "BH": 649.8,
          "PosTra": "NBCDR"
         },
         {
          "BH": 667.4,
          "PosTra": "NBCDR"
         },
         {
          "BH": 681.8,
          "PosTra": "NBCDR"
         },
         {
          "BH": 703.1,
          "PosTra": "NBCDR"
         },
         {
          "BH": 692.3,
          "PosTra": "NBCDR"
         },
         {
          "BH": 593.7,
          "PosTra": "NBCDR"
         },
         {
          "BH": 580,
          "PosTra": "NBCDR"
         },
         {
          "BH": 490.7,
          "PosTra": "NBCDR"
         },
         {
          "BH": 719,
          "PosTra": "NBCDR"
         },
         {
          "BH": 639.6,
          "PosTra": "NBCDR"
         },
         {
          "BH": 420.8,
          "PosTra": "NBCDR"
         },
         {
          "BH": 808,
          "PosTra": "NBCDR"
         },
         {
          "BH": 719.3,
          "PosTra": "NBCDR"
         },
         {
          "BH": 400.1,
          "PosTra": "NBCDR"
         },
         {
          "BH": 454.4,
          "PosTra": "NBCDR"
         },
         {
          "BH": 679.9,
          "PosTra": "NBCDR"
         },
         {
          "BH": 584.8,
          "PosTra": "NBCDR"
         },
         {
          "BH": 582.1,
          "PosTra": "NBCDR"
         },
         {
          "BH": 619.2,
          "PosTra": "NBCDR"
         },
         {
          "BH": 314.8,
          "PosTra": "NBCDR"
         },
         {
          "BH": 648.6,
          "PosTra": "NBCDR"
         },
         {
          "BH": 652.9,
          "PosTra": "NBCDR"
         },
         {
          "BH": 524.5,
          "PosTra": "NBCDR"
         },
         {
          "BH": 674.9,
          "PosTra": "NBCDR"
         },
         {
          "BH": 668.2,
          "PosTra": "NBCDR"
         },
         {
          "BH": 670.2,
          "PosTra": "NBCDR"
         },
         {
          "BH": 609.5,
          "PosTra": "NBCDR"
         },
         {
          "BH": 589,
          "PosTra": "NBCDR"
         },
         {
          "BH": 734,
          "PosTra": "NBCDR"
         },
         {
          "BH": 722.2,
          "PosTra": "NBCDR"
         },
         {
          "BH": 740.3,
          "PosTra": "NBCDR"
         },
         {
          "BH": 353.4,
          "PosTra": "NBCDR"
         },
         {
          "BH": 714.2,
          "PosTra": "NBCDR"
         },
         {
          "BH": 721.2,
          "PosTra": "NBCDR"
         },
         {
          "BH": 715.5,
          "PosTra": "NBCDR"
         },
         {
          "BH": 673.1,
          "PosTra": "NBCDR"
         },
         {
          "BH": 645.9,
          "PosTra": "NBCDR"
         },
         {
          "BH": 751.4,
          "PosTra": "NBCDR"
         },
         {
          "BH": 587.1,
          "PosTra": "NBCDR"
         },
         {
          "BH": 685.1,
          "PosTra": "NBCDR"
         },
         {
          "BH": 571,
          "PosTra": "NBCDR"
         },
         {
          "BH": 643.4,
          "PosTra": "NBCDR"
         },
         {
          "BH": 351.7,
          "PosTra": "NBCDR"
         },
         {
          "BH": 745,
          "PosTra": "NBCDR"
         },
         {
          "BH": 682.2,
          "PosTra": "NBCDR"
         },
         {
          "BH": 258.6,
          "PosTra": "NBCDR"
         },
         {
          "BH": 579.2,
          "PosTra": "NBCDR"
         },
         {
          "BH": 552.6,
          "PosTra": "NBCDR"
         },
         {
          "BH": 707.4,
          "PosTra": "NBCDR"
         },
         {
          "BH": 658.1,
          "PosTra": "NBCDR"
         },
         {
          "BH": 585,
          "PosTra": "NBCDR"
         },
         {
          "BH": 660.6,
          "PosTra": "NBCDR"
         },
         {
          "BH": 647.1,
          "PosTra": "NBCDR"
         },
         {
          "BH": 540.8,
          "PosTra": "NBCDR"
         },
         {
          "BH": 756.5,
          "PosTra": "NBCDR"
         },
         {
          "BH": 494.5,
          "PosTra": "NBCDR"
         },
         {
          "BH": 457.1,
          "PosTra": "NBCDR"
         },
         {
          "BH": 472.8,
          "PosTra": "NBCDR"
         },
         {
          "BH": 479.2,
          "PosTra": "NBCOP"
         },
         {
          "BH": 225.8,
          "PosTra": "NBCOP"
         },
         {
          "BH": 571.5,
          "PosTra": "NBCOP"
         },
         {
          "BH": 597.7,
          "PosTra": "NBCOP"
         },
         {
          "BH": 671,
          "PosTra": "NBCOP"
         },
         {
          "BH": 616.9,
          "PosTra": "NBCOP"
         },
         {
          "BH": 609,
          "PosTra": "NBCOP"
         },
         {
          "BH": 526.8,
          "PosTra": "NBCOP"
         },
         {
          "BH": 586.7,
          "PosTra": "NBCOP"
         },
         {
          "BH": 476,
          "PosTra": "NBCOP"
         },
         {
          "BH": 632,
          "PosTra": "NBCOP"
         },
         {
          "BH": 635.4,
          "PosTra": "NBCOP"
         },
         {
          "BH": 633.3,
          "PosTra": "NBCOP"
         },
         {
          "BH": 554.6,
          "PosTra": "NBCOP"
         },
         {
          "BH": 643,
          "PosTra": "NBCOP"
         },
         {
          "BH": 683.5,
          "PosTra": "NBCOP"
         },
         {
          "BH": 622.7,
          "PosTra": "NBCOP"
         },
         {
          "BH": 679.6,
          "PosTra": "NBCOP"
         },
         {
          "BH": 676.8,
          "PosTra": "NBCOP"
         },
         {
          "BH": 652,
          "PosTra": "NBCOP"
         },
         {
          "BH": 679.7,
          "PosTra": "NBCOP"
         },
         {
          "BH": 617.1,
          "PosTra": "NBCOP"
         },
         {
          "BH": 586.9,
          "PosTra": "NBCOP"
         },
         {
          "BH": 618.5,
          "PosTra": "NBCOP"
         },
         {
          "BH": 587.8,
          "PosTra": "NBCOP"
         },
         {
          "BH": 643.5,
          "PosTra": "NBCOP"
         },
         {
          "BH": 687.6,
          "PosTra": "NBCOP"
         },
         {
          "BH": 627.3,
          "PosTra": "NBCOP"
         },
         {
          "BH": 611.8,
          "PosTra": "NBCOP"
         },
         {
          "BH": 655.5,
          "PosTra": "NBCOP"
         },
         {
          "BH": 632.9,
          "PosTra": "NBCOP"
         },
         {
          "BH": 775.5,
          "PosTra": "NBCOP"
         },
         {
          "BH": 518.9,
          "PosTra": "NBCOP"
         },
         {
          "BH": 606.8,
          "PosTra": "NBCOP"
         },
         {
          "BH": 669.3,
          "PosTra": "NBCOP"
         },
         {
          "BH": 641.9,
          "PosTra": "NBCOP"
         },
         {
          "BH": 635.7,
          "PosTra": "NBCOP"
         },
         {
          "BH": 630.6,
          "PosTra": "NBCOP"
         },
         {
          "BH": 670.5,
          "PosTra": "NBCOP"
         },
         {
          "BH": 454,
          "PosTra": "NBCOP"
         },
         {
          "BH": 617.7,
          "PosTra": "NBCOP"
         },
         {
          "BH": 625,
          "PosTra": "NBCOP"
         },
         {
          "BH": 629,
          "PosTra": "NBCOP"
         },
         {
          "BH": 673.2,
          "PosTra": "NBCOP"
         },
         {
          "BH": 603.5,
          "PosTra": "NBCOP"
         },
         {
          "BH": 624.9,
          "PosTra": "NBCOP"
         },
         {
          "BH": 693.9,
          "PosTra": "NBCOP"
         },
         {
          "BH": 665.4,
          "PosTra": "NBCOP"
         },
         {
          "BH": 700.6,
          "PosTra": "NBCOP"
         },
         {
          "BH": 643.3,
          "PosTra": "NBCOP"
         },
         {
          "BH": 626.4,
          "PosTra": "NBCOP"
         },
         {
          "BH": 740.3,
          "PosTra": "NBCOP"
         },
         {
          "BH": 602.4,
          "PosTra": "NBCOP"
         },
         {
          "BH": 654.9,
          "PosTra": "NBCOP"
         },
         {
          "BH": 693,
          "PosTra": "NBCOP"
         },
         {
          "BH": 732,
          "PosTra": "NBCOP"
         },
         {
          "BH": 722.5,
          "PosTra": "NBCOP"
         },
         {
          "BH": 662.6,
          "PosTra": "NBCOP"
         },
         {
          "BH": 636.9,
          "PosTra": "NBCOP"
         },
         {
          "BH": 577.2,
          "PosTra": "NBCOP"
         },
         {
          "BH": 662.3,
          "PosTra": "NBCOP"
         },
         {
          "BH": 510.3,
          "PosTra": "NBCOP"
         },
         {
          "BH": 639.1,
          "PosTra": "NBCOP"
         },
         {
          "BH": 634.2,
          "PosTra": "NBCOP"
         },
         {
          "BH": 683.9,
          "PosTra": "NBCOP"
         },
         {
          "BH": 638.1,
          "PosTra": "NBCOP"
         },
         {
          "BH": 655,
          "PosTra": "NBCOP"
         },
         {
          "BH": 697.3,
          "PosTra": "NBCOP"
         },
         {
          "BH": 520.8,
          "PosTra": "NBCOP"
         },
         {
          "BH": 645,
          "PosTra": "NBCOP"
         },
         {
          "BH": 617.7,
          "PosTra": "NBCOP"
         },
         {
          "BH": 703.3,
          "PosTra": "NBCOP"
         },
         {
          "BH": 672.3,
          "PosTra": "NBCOP"
         },
         {
          "BH": 764,
          "PosTra": "NBCOP"
         },
         {
          "BH": 697.1,
          "PosTra": "NBCOP"
         },
         {
          "BH": 761.9,
          "PosTra": "NBCOP"
         },
         {
          "BH": 737.6,
          "PosTra": "NBCOP"
         },
         {
          "BH": 578,
          "PosTra": "NBCOP"
         },
         {
          "BH": 680.1,
          "PosTra": "NBCOP"
         },
         {
          "BH": 665.2,
          "PosTra": "NBCOP"
         },
         {
          "BH": 713,
          "PosTra": "NBCOP"
         },
         {
          "BH": 606.9,
          "PosTra": "NBCOP"
         },
         {
          "BH": 564.2,
          "PosTra": "NBCOP"
         },
         {
          "BH": 677,
          "PosTra": "NBCOP"
         },
         {
          "BH": 671.5,
          "PosTra": "NBCOP"
         },
         {
          "BH": 629.5,
          "PosTra": "MFFCDR"
         },
         {
          "BH": 649.7,
          "PosTra": "MFFCDR"
         },
         {
          "BH": 745.5,
          "PosTra": "MFFCDR"
         },
         {
          "BH": 797,
          "PosTra": "MFFCDR"
         },
         {
          "BH": 856.6,
          "PosTra": "MFFCDR"
         },
         {
          "BH": 668.8,
          "PosTra": "MFFCDR"
         },
         {
          "BH": 758.2,
          "PosTra": "MFFCDR"
         },
         {
          "BH": 686.6,
          "PosTra": "MFFCDR"
         },
         {
          "BH": 750.1,
          "PosTra": "MFFCDR"
         },
         {
          "BH": 707.3,
          "PosTra": "MFFCDR"
         },
         {
          "BH": 512.6,
          "PosTra": "MFFCDR"
         },
         {
          "BH": 773.1,
          "PosTra": "MFFCDR"
         },
         {
          "BH": 563.7,
          "PosTra": "MFFCDR"
         },
         {
          "BH": 796.9,
          "PosTra": "MFFCDR"
         },
         {
          "BH": 617.7,
          "PosTra": "MFFCDR"
         },
         {
          "BH": 600.3,
          "PosTra": "MFFCDR"
         },
         {
          "BH": 756.4,
          "PosTra": "MFFCDR"
         },
         {
          "BH": 602.6,
          "PosTra": "MFFCDR"
         },
         {
          "BH": 469.6,
          "PosTra": "MFFCDR"
         },
         {
          "BH": 564.4,
          "PosTra": "MFFCDR"
         },
         {
          "BH": 589.3,
          "PosTra": "MFFCDR"
         },
         {
          "BH": 538.8,
          "PosTra": "MFFCDR"
         },
         {
          "BH": 608.8,
          "PosTra": "MFFCDR"
         },
         {
          "BH": 603.5,
          "PosTra": "MFFCDR"
         },
         {
          "BH": 612.3,
          "PosTra": "MFFCDR"
         },
         {
          "BH": 583.5,
          "PosTra": "MFFCDR"
         },
         {
          "BH": 545.2,
          "PosTra": "MFFCDR"
         },
         {
          "BH": 612.3,
          "PosTra": "MFFCDR"
         },
         {
          "BH": 646.4,
          "PosTra": "MFFCDR"
         },
         {
          "BH": 738.2,
          "PosTra": "MFFCDR"
         },
         {
          "BH": 450.3,
          "PosTra": "MFFCDR"
         },
         {
          "BH": 630.9,
          "PosTra": "MFFCDR"
         },
         {
          "BH": 741.9,
          "PosTra": "MFFCDR"
         },
         {
          "BH": 529.8,
          "PosTra": "MFFCDR"
         },
         {
          "BH": 867.1,
          "PosTra": "MFFCDR"
         },
         {
          "BH": 614.1,
          "PosTra": "MFFCDR"
         },
         {
          "BH": 579.9,
          "PosTra": "MFFCDR"
         },
         {
          "BH": 719.4,
          "PosTra": "MFFCDR"
         },
         {
          "BH": 713,
          "PosTra": "MFFCDR"
         },
         {
          "BH": 835.7,
          "PosTra": "MFFCDR"
         },
         {
          "BH": 806.9,
          "PosTra": "MFFCDR"
         },
         {
          "BH": 719.6,
          "PosTra": "MFFCDR"
         },
         {
          "BH": 707.6,
          "PosTra": "MFFCDR"
         },
         {
          "BH": 479.2,
          "PosTra": "MFFCDR"
         },
         {
          "BH": 758,
          "PosTra": "MFFCDR"
         },
         {
          "BH": 472.1,
          "PosTra": "MFFCDR"
         },
         {
          "BH": 792.5,
          "PosTra": "MFFCDR"
         },
         {
          "BH": 720,
          "PosTra": "MFFCDR"
         },
         {
          "BH": 776.5,
          "PosTra": "MFFCDR"
         },
         {
          "BH": 346.8,
          "PosTra": "MFFCDR"
         },
         {
          "BH": 611.9,
          "PosTra": "MFFCOP"
         },
         {
          "BH": 809.8,
          "PosTra": "MFFCOP"
         },
         {
          "BH": 699.8,
          "PosTra": "WBCDR"
         },
         {
          "BH": 765.7,
          "PosTra": "WBCDR"
         },
         {
          "BH": 666.4,
          "PosTra": "WBCDR"
         },
         {
          "BH": 768.2,
          "PosTra": "WBCDR"
         },
         {
          "BH": 560.4,
          "PosTra": "WBCDR"
         },
         {
          "BH": 648.1,
          "PosTra": "WBCDR"
         },
         {
          "BH": 711.3,
          "PosTra": "WBCDR"
         },
         {
          "BH": 692.1,
          "PosTra": "WBCDR"
         },
         {
          "BH": 632.6,
          "PosTra": "WBCDR"
         },
         {
          "BH": 467.6,
          "PosTra": "WBCDR"
         },
         {
          "BH": 775.8,
          "PosTra": "WBCDR"
         },
         {
          "BH": 558,
          "PosTra": "WBCDR"
         },
         {
          "BH": 613.2,
          "PosTra": "WBCDR"
         },
         {
          "BH": 754.2,
          "PosTra": "WBCDR"
         },
         {
          "BH": 773.9,
          "PosTra": "WBCDR"
         },
         {
          "BH": 608.2,
          "PosTra": "WBCDR"
         },
         {
          "BH": 537.4,
          "PosTra": "WBCDR"
         },
         {
          "BH": 788.4,
          "PosTra": "WBCDR"
         },
         {
          "BH": 739.4,
          "PosTra": "WBCDR"
         },
         {
          "BH": 628.4,
          "PosTra": "WBCDR"
         },
         {
          "BH": 726.7,
          "PosTra": "WBCDR"
         },
         {
          "BH": 726.6,
          "PosTra": "WBCDR"
         },
         {
          "BH": 669,
          "PosTra": "WBCDR"
         },
         {
          "BH": 534.2,
          "PosTra": "WBCDR"
         },
         {
          "BH": 663.2,
          "PosTra": "WBCDR"
         },
         {
          "BH": 896.7,
          "PosTra": "WBCDR"
         },
         {
          "BH": 717.4,
          "PosTra": "WBCDR"
         },
         {
          "BH": 806.5,
          "PosTra": "WBCDR"
         },
         {
          "BH": 705.2,
          "PosTra": "WBCDR"
         },
         {
          "BH": 685.3,
          "PosTra": "WBCDR"
         },
         {
          "BH": 702.9,
          "PosTra": "WBCDR"
         },
         {
          "BH": 710.7,
          "PosTra": "WBCDR"
         },
         {
          "BH": 708.4,
          "PosTra": "WBCDR"
         },
         {
          "BH": 742.4,
          "PosTra": "WBCDR"
         },
         {
          "BH": 636.3,
          "PosTra": "WBCDR"
         },
         {
          "BH": 664.2,
          "PosTra": "WBCDR"
         },
         {
          "BH": 818.7,
          "PosTra": "WBCDR"
         },
         {
          "BH": 652.3,
          "PosTra": "WBCDR"
         },
         {
          "BH": 771.8,
          "PosTra": "WBCDR"
         },
         {
          "BH": 722,
          "PosTra": "WBCDR"
         },
         {
          "BH": 710.3,
          "PosTra": "WBCDR"
         },
         {
          "BH": 768,
          "PosTra": "WBCDR"
         },
         {
          "BH": 656.6,
          "PosTra": "WBCDR"
         },
         {
          "BH": 546.4,
          "PosTra": "WBCDR"
         },
         {
          "BH": 768.7,
          "PosTra": "WBCDR"
         },
         {
          "BH": 715,
          "PosTra": "WBCDR"
         },
         {
          "BH": 550.7,
          "PosTra": "WBCDR"
         },
         {
          "BH": 637.9,
          "PosTra": "WBCDR"
         },
         {
          "BH": 707.2,
          "PosTra": "WBCDR"
         },
         {
          "BH": 808.2,
          "PosTra": "WBCDR"
         },
         {
          "BH": 679.1,
          "PosTra": "WBCDR"
         },
         {
          "BH": 690.8,
          "PosTra": "WBCDR"
         },
         {
          "BH": 541.8,
          "PosTra": "WBCDR"
         },
         {
          "BH": 549,
          "PosTra": "WBCDR"
         },
         {
          "BH": 447.9,
          "PosTra": "WBCDR"
         },
         {
          "BH": 716.4,
          "PosTra": "WBCDR"
         },
         {
          "BH": 813.1,
          "PosTra": "WBCDR"
         },
         {
          "BH": 765,
          "PosTra": "WBCDR"
         },
         {
          "BH": 558.1,
          "PosTra": "WBCDR"
         },
         {
          "BH": 565.1,
          "PosTra": "WBCDR"
         },
         {
          "BH": 627.5,
          "PosTra": "WBCDR"
         },
         {
          "BH": 728.4,
          "PosTra": "WBCDR"
         },
         {
          "BH": 728.5,
          "PosTra": "WBCDR"
         },
         {
          "BH": 574.4,
          "PosTra": "WBCDR"
         },
         {
          "BH": 673.7,
          "PosTra": "WBCDR"
         },
         {
          "BH": 636.3,
          "PosTra": "WBCDR"
         },
         {
          "BH": 641.9,
          "PosTra": "WBCDR"
         },
         {
          "BH": 421.2,
          "PosTra": "WBCDR"
         },
         {
          "BH": 670.6,
          "PosTra": "WBCDR"
         },
         {
          "BH": 662.8,
          "PosTra": "WBCDR"
         },
         {
          "BH": 721.1,
          "PosTra": "WBCDR"
         },
         {
          "BH": 668.9,
          "PosTra": "WBCDR"
         },
         {
          "BH": 603.5,
          "PosTra": "WBCDR"
         },
         {
          "BH": 748.1,
          "PosTra": "WBCDR"
         },
         {
          "BH": 682.1,
          "PosTra": "WBCDR"
         },
         {
          "BH": 537.5,
          "PosTra": "WBCDR"
         },
         {
          "BH": 583.2,
          "PosTra": "WBCDR"
         },
         {
          "BH": 594.8,
          "PosTra": "WBCDR"
         },
         {
          "BH": 567.9,
          "PosTra": "WBCDR"
         },
         {
          "BH": 629.8,
          "PosTra": "WBCDR"
         },
         {
          "BH": 642.6,
          "PosTra": "WBCDR"
         },
         {
          "BH": 706.7,
          "PosTra": "WBCDR"
         },
         {
          "BH": 610.6,
          "PosTra": "WBCDR"
         },
         {
          "BH": 737.8,
          "PosTra": "WBCDR"
         },
         {
          "BH": 553.7,
          "PosTra": "WBCDR"
         },
         {
          "BH": 671.2,
          "PosTra": "WBCDR"
         },
         {
          "BH": 764.3,
          "PosTra": "WBCDR"
         },
         {
          "BH": 501.3,
          "PosTra": "WBCDR"
         },
         {
          "BH": 810.6,
          "PosTra": "WBCDR"
         },
         {
          "BH": 777.7,
          "PosTra": "WBCDR"
         },
         {
          "BH": 734.7,
          "PosTra": "WBCDR"
         },
         {
          "BH": 809.9,
          "PosTra": "WBCDR"
         },
         {
          "BH": 757.3,
          "PosTra": "WBCDR"
         },
         {
          "BH": 645.6,
          "PosTra": "WBCDR"
         },
         {
          "BH": 745.1,
          "PosTra": "WBCDR"
         },
         {
          "BH": 525.6,
          "PosTra": "WBCDR"
         },
         {
          "BH": 535,
          "PosTra": "WBCDR"
         },
         {
          "BH": 636.7,
          "PosTra": "WBCDR"
         },
         {
          "BH": 666.6,
          "PosTra": "WBCOP"
         },
         {
          "BH": 628.8,
          "PosTra": "WBCOP"
         },
         {
          "BH": 566.3,
          "PosTra": "WBCOP"
         },
         {
          "BH": 573.1,
          "PosTra": "WBCOP"
         },
         {
          "BH": 589.4,
          "PosTra": "WBCOP"
         },
         {
          "BH": 415.3,
          "PosTra": "WBCOP"
         },
         {
          "BH": 655.3,
          "PosTra": "WBCOP"
         },
         {
          "BH": 618,
          "PosTra": "WBCOP"
         },
         {
          "BH": 707.1,
          "PosTra": "WBCOP"
         },
         {
          "BH": 726.5,
          "PosTra": "WBCOP"
         },
         {
          "BH": 723.1,
          "PosTra": "WBCOP"
         },
         {
          "BH": 493.1,
          "PosTra": "WBCOP"
         },
         {
          "BH": 743.5,
          "PosTra": "WBCOP"
         },
         {
          "BH": 672.7,
          "PosTra": "WBCOP"
         },
         {
          "BH": 781.9,
          "PosTra": "WBCOP"
         },
         {
          "BH": 706.1,
          "PosTra": "WBCOP"
         },
         {
          "BH": 443,
          "PosTra": "WBCOP"
         },
         {
          "BH": 685.8,
          "PosTra": "WBCOP"
         },
         {
          "BH": 630.6,
          "PosTra": "WBCOP"
         },
         {
          "BH": 778.6,
          "PosTra": "WBCOP"
         },
         {
          "BH": 662.9,
          "PosTra": "WBCOP"
         },
         {
          "BH": 664.5,
          "PosTra": "WBCOP"
         },
         {
          "BH": 486.5,
          "PosTra": "WBCOP"
         },
         {
          "BH": 771.7,
          "PosTra": "WBCOP"
         },
         {
          "BH": 809.3,
          "PosTra": "WBCOP"
         },
         {
          "BH": 744.2,
          "PosTra": "WBCOP"
         },
         {
          "BH": 662.4,
          "PosTra": "WBCOP"
         },
         {
          "BH": 646.5,
          "PosTra": "WBCOP"
         },
         {
          "BH": 624.8,
          "PosTra": "WBCOP"
         },
         {
          "BH": 678.8,
          "PosTra": "WBCOP"
         },
         {
          "BH": 823,
          "PosTra": "WBCOP"
         },
         {
          "BH": 627,
          "PosTra": "WBCOP"
         },
         {
          "BH": 707.3,
          "PosTra": "WBCOP"
         },
         {
          "BH": 751.2,
          "PosTra": "WBCOP"
         },
         {
          "BH": 670.6,
          "PosTra": "WBCOP"
         },
         {
          "BH": 695.4,
          "PosTra": "WBCOP"
         },
         {
          "BH": 766.6,
          "PosTra": "WBCOP"
         },
         {
          "BH": 695.5,
          "PosTra": "WBCOP"
         },
         {
          "BH": 620.3,
          "PosTra": "WBCOP"
         },
         {
          "BH": 584.7,
          "PosTra": "WBCOP"
         },
         {
          "BH": 772.4,
          "PosTra": "WBCOP"
         },
         {
          "BH": 485.1,
          "PosTra": "WBCOP"
         },
         {
          "BH": 469.6,
          "PosTra": "WBCOP"
         },
         {
          "BH": 597.7,
          "PosTra": "WBCOP"
         },
         {
          "BH": 756.7,
          "PosTra": "WBCOP"
         },
         {
          "BH": 727.4,
          "PosTra": "WBCOP"
         },
         {
          "BH": 686.3,
          "PosTra": "WBCOP"
         },
         {
          "BH": 606.4,
          "PosTra": "WBCOP"
         },
         {
          "BH": 744.1,
          "PosTra": "WBCOP"
         },
         {
          "BH": 690.4,
          "PosTra": "WBCOP"
         },
         {
          "BH": 699.9,
          "PosTra": "WBCOP"
         },
         {
          "BH": 775.7,
          "PosTra": "WBCOP"
         },
         {
          "BH": 745.2,
          "PosTra": "WBCOP"
         },
         {
          "BH": 716.9,
          "PosTra": "WBCOP"
         },
         {
          "BH": 570.4,
          "PosTra": "WBCOP"
         },
         {
          "BH": 555,
          "PosTra": "WBCOP"
         },
         {
          "BH": 630.2,
          "PosTra": "WBCOP"
         },
         {
          "BH": 412,
          "PosTra": "WBCOP"
         },
         {
          "BH": 491.4,
          "PosTra": "WBCOP"
         },
         {
          "BH": 514.1,
          "PosTra": "WBCOP"
         },
         {
          "BH": 641,
          "PosTra": "WBCOP"
         },
         {
          "BH": 617.7,
          "PosTra": "WBCOP"
         },
         {
          "BH": 607.5,
          "PosTra": "WBCOP"
         },
         {
          "BH": 651.6,
          "PosTra": "WBCOP"
         },
         {
          "BH": 552.7,
          "PosTra": "WBCOP"
         },
         {
          "BH": 489.3,
          "PosTra": "WBCOP"
         },
         {
          "BH": 661.2,
          "PosTra": "WBCOP"
         },
         {
          "BH": 536.4,
          "PosTra": "WBCOP"
         },
         {
          "BH": 711.9,
          "PosTra": "WBCOP"
         },
         {
          "BH": 634.8,
          "PosTra": "WBCOP"
         },
         {
          "BH": 567.9,
          "PosTra": "WBCOP"
         },
         {
          "BH": 663.7,
          "PosTra": "WBCOP"
         },
         {
          "BH": 546.6,
          "PosTra": "WBCOP"
         },
         {
          "BH": 601.1,
          "PosTra": "WBCOP"
         },
         {
          "BH": 714.4,
          "PosTra": "WBCOP"
         },
         {
          "BH": 356.2,
          "PosTra": "WBCOP"
         },
         {
          "BH": 440.2,
          "PosTra": "WBCOP"
         },
         {
          "BH": 682.1,
          "PosTra": "WBCOP"
         },
         {
          "BH": 619.2,
          "PosTra": "WBCOP"
         },
         {
          "BH": 288.6,
          "PosTra": "WBCOP"
         },
         {
          "BH": 641.2,
          "PosTra": "WBCOP"
         }
        ]
       },
       "description": "A vertical box plot showing median, min, and max block hours.",
       "encoding": {
        "color": {
         "field": "PosTra",
         "legend": null,
         "type": "nominal"
        },
        "size": {
         "value": 90
        },
        "x": {
         "field": "PosTra",
         "type": "nominal"
        },
        "y": {
         "field": "BH",
         "scale": {
          "zero": false
         },
         "type": "quantitative"
        }
       },
       "height": 400,
       "mark": {
        "extent": "min-max",
        "type": "boxplot"
       },
       "width": 800
      },
      "image/png": "[encoded data removed]"
     },
     "metadata": {},
     "output_type": "display_data"
    }
   ],
   "source": [
    ":vega-lite\n",
    "('PosTra' 'BH')vega.boxplot data.attributes[⊂'names']vega.json_data↓⍉↑data.data"
   ]
  }
 ],
 "metadata": {
  "kernelspec": {
   "display_name": "Dyalog APL",
   "language": "apl",
   "name": "dyalog-kernel"
  },
  "language_info": {
   "file_extension": ".apl",
   "mimetype": "text/apl",
   "name": "APL"
  }
 },
 "nbformat": 4,
 "nbformat_minor": 5
}
