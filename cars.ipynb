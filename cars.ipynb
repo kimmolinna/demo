{
 "cells": [
  {
   "cell_type": "markdown",
   "id": "f734f88b",
   "metadata": {},
   "source": [
    "# JupyterLab Notebook with DyalogAPL and RSconnect (R and Rserve)\r\n",
    "\r\n",
    "\r\n",
    "## What do i need to present data and scripts transparently?\r\n",
    "* A Swiss knife tool - [Dyalog APL](https://www.dyalog.com/)\r\n",
    "* Database (query language) - [data.table](https://rdatatable.gitlab.io/data.table/) or [DuckDB](https://duckdb.org/) in [R](https://www.r-project.org/)\r\n",
    "* Notebook (transparency requires scripting) - [JupyterLab](https://jupyter.org/) with native support for vega-lite\r\n",
    "* Graphics library - [vega-lite](https://vega.github.io/vega-lite/)\r\n",
    "\r\n",
    "## Preparations\r\n",
    "### Install dotnet 3.1 core\r\n",
    "```APL\r\n",
    "DYALOG_NETCORE=1\r\n",
    "```\r\n",
    "### Install [JupyterLab](https://jupyter.org/)\r\n",
    "```bash\r\n",
    "pip install jupyterlab\r\n",
    "```\r\n",
    "### Clone [dyalog-jupyter-kernel](https://github.com/kimmolinna/dyalog-jupyter-kernel)\r\n",
    "Copy cloned files to the present structure\r\n",
    "```bash\r\n",
    "[Python Folder]\\share\\jupyter\\kernels\\dyalog-kernel\r\n",
    "[Python Folder]\\Lib\\site-packages\\dyalog_kernel\r\n",
    "```\r\n",
    "### Install [Rserve](https://www.rforge.net/Rserve/)\r\n",
    "\"Rserve is a TCP/IP server which allows other programs to use facilities of R (see www.r-project.org) from various languages without the need to initialize R or link against R library. Every connection has a separate workspace and working directory.\"\r\n",
    "```R\r\n",
    "Install.packages (\"Rserve\")\r\n",
    "```\r\n",
    "Copy Rserve files from the library-folder to the present R structure\r\n",
    "```bash\r\n",
    "[R Folder]\\R-4.1.0\\library\\Rserve\\libs\\x64 -> [R Folder]\\R-4.1.0\\bin\\x64\r\n",
    "```\r\n",
    "### Install [data.table](https://rdatatable.gitlab.io/data.table/)\r\n",
    "```R\r\n",
    "Install.packages (\"data.table\")\r\n",
    "```\r\n",
    "[Database-like ops benchmark](https://h2oai.github.io/db-benchmark/)\r\n",
    "### Install [DuckDB](https://duckdb.org/)\r\n",
    "```R\r\n",
    "Install.packages (\"duckdb\")\r\n",
    "```\r\n",
    "[Querying Parquet with Precision using DuckDB](https://duckdb.org/2021/06/25/querying-parquet.html)\r\n",
    "\r\n",
    "[Apache Arrow](https://arrow.apache.org/)\r\n",
    "### Clone [rsconnect](https://github.com/kimmolinna/rsconnect)\r\n",
    "Interface for R connection from DyalogAPL with Rserve\r\n",
    "    "
   ]
  },
  {
   "cell_type": "code",
   "execution_count": 1,
   "id": "2280b80e",
   "metadata": {},
   "outputs": [
    {
     "data": {
      "text/html": [
       "<span style=\"white-space:pre; font-family: monospace\">Was ON\n",
       "</span>"
      ]
     },
     "execution_count": 1,
     "metadata": {},
     "output_type": "execute_result"
    },
    {
     "data": {
      "text/html": [
       "<span style=\"white-space:pre; font-family: monospace\"> DYALOG_NETCORE  1 \n",
       "</span>"
      ]
     },
     "execution_count": 1,
     "metadata": {},
     "output_type": "execute_result"
    }
   ],
   "source": [
    "]boxing off\n",
    "]config DYALOG_NETCORE"
   ]
  },
  {
   "cell_type": "code",
   "execution_count": 2,
   "id": "5304ee7c",
   "metadata": {},
   "outputs": [
    {
     "data": {
      "text/html": [
       "<span style=\"white-space:pre; font-family: monospace\">Linked: #.jlab ←→ C:\\Users\\ay29782\\OneDrive - finnair365\\demo\\jlab\n",
       "</span>"
      ]
     },
     "execution_count": 2,
     "metadata": {},
     "output_type": "execute_result"
    }
   ],
   "source": [
    "]LINK.create jlab jlab"
   ]
  },
  {
   "cell_type": "code",
   "execution_count": 3,
   "id": "6cf8dfa3",
   "metadata": {},
   "outputs": [],
   "source": [
    "2⎕fix 'file://../demo/rsconnect/rserve.dyalog'\n",
    "RS.start\n",
    "⎕ex 'r' ⋄ r←⎕new RS.Rserve"
   ]
  },
  {
   "cell_type": "code",
   "execution_count": 4,
   "id": "fc3b5bec",
   "metadata": {},
   "outputs": [
    {
     "data": {
      "text/html": [
       "<span style=\"white-space:pre; font-family: monospace\"> DBI  data.table  stats  graphics  grDevices  utils  datasets  methods  base \n",
       "</span>"
      ]
     },
     "execution_count": 4,
     "metadata": {},
     "output_type": "execute_result"
    }
   ],
   "source": [
    "0 r.eval 'library(data.table)'\n",
    "r.eval 'library(DBI)'"
   ]
  },
  {
   "cell_type": "code",
   "execution_count": 5,
   "id": "b17e6045",
   "metadata": {},
   "outputs": [],
   "source": [
    "0 r.eval 'con = dbConnect(duckdb::duckdb(), dbdir=\":memory:\", read_only=FALSE)'"
   ]
  },
  {
   "cell_type": "code",
   "execution_count": 6,
   "id": "df354645",
   "metadata": {},
   "outputs": [],
   "source": [
    "0 r.eval 'cars<-copy(mtcars)' \n",
    "0 r.eval 'setDT(cars,keep.rownames = T)'"
   ]
  },
  {
   "cell_type": "code",
   "execution_count": 7,
   "id": "f7afc399",
   "metadata": {},
   "outputs": [],
   "source": [
    "cars←r.eval 'cars'"
   ]
  },
  {
   "cell_type": "code",
   "execution_count": 8,
   "id": "6b8e0ed3",
   "metadata": {},
   "outputs": [
    {
     "data": {
      "text/html": [
       "<span style=\"white-space:pre; font-family: monospace\">#.[Rserve].[robject]\n",
       "</span>"
      ]
     },
     "execution_count": 8,
     "metadata": {},
     "output_type": "execute_result"
    }
   ],
   "source": [
    "cars"
   ]
  },
  {
   "cell_type": "code",
   "execution_count": 9,
   "id": "c2a8d625",
   "metadata": {},
   "outputs": [
    {
     "data": {
      "text/html": [
       "<span style=\"white-space:pre; font-family: monospace\">  data.table  data.frame  \n",
       "</span>"
      ]
     },
     "execution_count": 9,
     "metadata": {},
     "output_type": "execute_result"
    }
   ],
   "source": [
    "cars.attributes[⊂'class']"
   ]
  },
  {
   "cell_type": "code",
   "execution_count": 10,
   "id": "658d2b85",
   "metadata": {},
   "outputs": [
    {
     "data": {
      "text/markdown": [
       "|rn|mpg|cyl|disp|hp|drat|wt|qsec|vs|am|gear|carb|\n",
       "|-:|-:|-:|-:|-:|-:|-:|-:|-:|-:|-:|-:|\n",
       "|Mazda RX4|21|6|160|110|3.9|2.62|16.46|0|1|4|4|\n",
       "|Mazda RX4 Wag|21|6|160|110|3.9|2.875|17.02|0|1|4|4|\n",
       "|Datsun 710|22.8|4|108|93|3.85|2.32|18.61|1|1|4|1|\n",
       "|Hornet 4 Drive|21.4|6|258|110|3.08|3.215|19.44|1|0|3|1|\n",
       "\n"
      ]
     },
     "execution_count": 10,
     "metadata": {},
     "output_type": "execute_result"
    }
   ],
   "source": [
    ":markdown\n",
    "jlab.table cars.value[⍳5;]"
   ]
  },
  {
   "cell_type": "code",
   "execution_count": 11,
   "id": "00fdecb3",
   "metadata": {},
   "outputs": [
    {
     "data": {
      "text/html": [
       "<span style=\"white-space:pre; font-family: monospace\">#.[Rserve].[robject]\n",
       "</span>"
      ]
     },
     "execution_count": 11,
     "metadata": {},
     "output_type": "execute_result"
    }
   ],
   "source": [
    "0 r.eval 'dbWriteTable(con, \"cars\", cars)'\n",
    "r.eval 'dbGetQuery(con, \"SELECT * FROM cars LIMIT 5\")'"
   ]
  },
  {
   "cell_type": "code",
   "execution_count": 12,
   "id": "a7370af9",
   "metadata": {},
   "outputs": [],
   "source": [
    "db←r.eval 'dbGetQuery(con, \"SELECT * FROM cars LIMIT 5\")'"
   ]
  },
  {
   "cell_type": "code",
   "execution_count": 14,
   "id": "a07050eb",
   "metadata": {},
   "outputs": [
    {
     "data": {
      "text/markdown": [
       "|rn|mpg|cyl|disp|hp|drat|wt|qsec|vs|am|gear|carb|\n",
       "|-:|-:|-:|-:|-:|-:|-:|-:|-:|-:|-:|-:|\n",
       "|Mazda RX4|21|6|160|110|3.9|2.62|16.46|0|1|4|4|\n",
       "|Mazda RX4 Wag|21|6|160|110|3.9|2.875|17.02|0|1|4|4|\n",
       "|Datsun 710|22.8|4|108|93|3.85|2.32|18.61|1|1|4|1|\n",
       "|Hornet 4 Drive|21.4|6|258|110|3.08|3.215|19.44|1|0|3|1|\n",
       "|Hornet Sportabout|18.7|8|360|175|3.15|3.44|17.02|0|0|3|2|\n",
       "\n"
      ]
     },
     "execution_count": 14,
     "metadata": {},
     "output_type": "execute_result"
    }
   ],
   "source": [
    ":markdown\n",
    "jlab.table db.value"
   ]
  },
  {
   "cell_type": "code",
   "execution_count": 15,
   "id": "3b3978ec",
   "metadata": {},
   "outputs": [
    {
     "data": {
      "text/html": [
       "<span style=\"white-space:pre; font-family: monospace\">1\n",
       "</span>"
      ]
     },
     "execution_count": 15,
     "metadata": {},
     "output_type": "execute_result"
    }
   ],
   "source": [
    "cars.value[⍳6;]≡db.value"
   ]
  },
  {
   "cell_type": "code",
   "execution_count": 16,
   "id": "a0a19808",
   "metadata": {},
   "outputs": [],
   "source": [
    "data←r.eval 'cars[,.(cyl,qsec)]'"
   ]
  },
  {
   "cell_type": "code",
   "execution_count": 17,
   "id": "a46f80d8",
   "metadata": {},
   "outputs": [
    {
     "data": {
      "application/vnd.vegalite.v4+json": {
       "$schema": "https://vega.github.io/schema/vega-lite/v5.json",
       "data": {
        "values": [
         {
          "cyl": 6,
          "qsec": 16.46
         },
         {
          "cyl": 6,
          "qsec": 17.02
         },
         {
          "cyl": 4,
          "qsec": 18.61
         },
         {
          "cyl": 6,
          "qsec": 19.44
         },
         {
          "cyl": 8,
          "qsec": 17.02
         },
         {
          "cyl": 6,
          "qsec": 20.22
         },
         {
          "cyl": 8,
          "qsec": 15.84
         },
         {
          "cyl": 4,
          "qsec": 20
         },
         {
          "cyl": 4,
          "qsec": 22.9
         },
         {
          "cyl": 6,
          "qsec": 18.3
         },
         {
          "cyl": 6,
          "qsec": 18.9
         },
         {
          "cyl": 8,
          "qsec": 17.4
         },
         {
          "cyl": 8,
          "qsec": 17.6
         },
         {
          "cyl": 8,
          "qsec": 18
         },
         {
          "cyl": 8,
          "qsec": 17.98
         },
         {
          "cyl": 8,
          "qsec": 17.82
         },
         {
          "cyl": 8,
          "qsec": 17.42
         },
         {
          "cyl": 4,
          "qsec": 19.47
         },
         {
          "cyl": 4,
          "qsec": 18.52
         },
         {
          "cyl": 4,
          "qsec": 19.9
         },
         {
          "cyl": 4,
          "qsec": 20.01
         },
         {
          "cyl": 8,
          "qsec": 16.87
         },
         {
          "cyl": 8,
          "qsec": 17.3
         },
         {
          "cyl": 8,
          "qsec": 15.41
         },
         {
          "cyl": 8,
          "qsec": 17.05
         },
         {
          "cyl": 4,
          "qsec": 18.9
         },
         {
          "cyl": 4,
          "qsec": 16.7
         },
         {
          "cyl": 4,
          "qsec": 16.9
         },
         {
          "cyl": 8,
          "qsec": 14.5
         },
         {
          "cyl": 6,
          "qsec": 15.5
         },
         {
          "cyl": 8,
          "qsec": 14.6
         },
         {
          "cyl": 4,
          "qsec": 18.6
         }
        ]
       },
       "description": "A vertical box plot showing median, min, and max block hours.",
       "encoding": {
        "color": {
         "field": "cyl",
         "legend": null,
         "type": "nominal"
        },
        "size": {
         "value": 90
        },
        "x": {
         "field": "cyl",
         "type": "nominal"
        },
        "y": {
         "field": "qsec",
         "scale": {
          "zero": true
         },
         "type": "quantitative"
        }
       },
       "height": 400,
       "mark": {
        "extent": "min-max",
        "type": "boxplot"
       },
       "width": 800
      },
      "image/png": "[encoded data removed]"
     },
     "metadata": {},
     "output_type": "display_data"
    }
   ],
   "source": [
    ":vega-lite\n",
    "('cyl' 'qsec')jlab.vega.do jlab.vega.json_data data"
   ]
  },
  {
   "cell_type": "code",
   "execution_count": 18,
   "id": "93d1ad0e-bb61-4d1b-927b-59bb45839ba4",
   "metadata": {},
   "outputs": [
    {
     "data": {
      "text/html": [
       "<span style=\"white-space:pre; font-family: monospace\">{\"$schema\": \"https://vega.github.io/schema/vega-lite/v5.json\",\"description\": \"A vertical box plot showing median, min, and max block hours.\",\"width\": 800,\"height\": 400,\"data\": {\"values\":[{\"cyl\":6,\"qsec\":16.46},{\"cyl\":6,\"qsec\":17.02},{\"cyl\":4,\"qsec\":18.61},{\"cyl\":6,\"qsec\":19.44},{\"cyl\":8,\"qsec\":17.02},{\"cyl\":6,\"qsec\":20.22},{\"cyl\":8,\"qsec\":15.84},{\"cyl\":4,\"qsec\":20},{\"cyl\":4,\"qsec\":22.9},{\"cyl\":6,\"qsec\":18.3},{\"cyl\":6,\"qsec\":18.9},{\"cyl\":8,\"qsec\":17.4},{\"cyl\":8,\"qsec\":17.6},{\"cyl\":8,\"qsec\":18},{\"cyl\":8,\"qsec\":17.98},{\"cyl\":8,\"qsec\":17.82},{\"cyl\":8,\"qsec\":17.42},{\"cyl\":4,\"qsec\":19.47},{\"cyl\":4,\"qsec\":18.52},{\"cyl\":4,\"qsec\":19.9},{\"cyl\":4,\"qsec\":20.01},{\"cyl\":8,\"qsec\":16.87},{\"cyl\":8,\"qsec\":17.3},{\"cyl\":8,\"qsec\":15.41},{\"cyl\":8,\"qsec\":17.05},{\"cyl\":4,\"qsec\":18.9},{\"cyl\":4,\"qsec\":16.7},{\"cyl\":4,\"qsec\":16.9},{\"cyl\":8,\"qsec\":14.5},{\"cyl\":6,\"qsec\":15.5},{\"cyl\":8,\"qsec\":14.6},{\"cyl\":4,\"qsec\":18.6}]},\"mark\": {\"type\": \"boxplot\",\"extent\": \"min-max\"},\"encoding\": {\"x\": {\"field\": \"cyl\", \"type\": \"nominal\"},\"color\": {\"field\": \"cyl\", \"type\": \"nominal\", \"legend\": null},\"y\": {\"field\": \"qsec\",\"type\": \"quantitative\",\"scale\": {\"zero\": true}},\"size\": {\"value\": 90}}}\n",
       "</span>"
      ]
     },
     "execution_count": 18,
     "metadata": {},
     "output_type": "execute_result"
    }
   ],
   "source": [
    "('cyl' 'qsec')jlab.vega.do jlab.vega.json_data data"
   ]
  }
 ],
 "metadata": {
  "kernelspec": {
   "display_name": "Dyalog APL",
   "language": "apl",
   "name": "dyalog-kernel"
  },
  "language_info": {
   "file_extension": ".apl",
   "mimetype": "text/apl",
   "name": "APL"
  }
 },
 "nbformat": 4,
 "nbformat_minor": 5
}
